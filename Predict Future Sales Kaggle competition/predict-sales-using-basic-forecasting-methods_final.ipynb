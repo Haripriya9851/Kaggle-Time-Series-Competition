{
 "cells": [
  {
   "cell_type": "code",
   "execution_count": 2,
   "metadata": {
    "_cell_guid": "b1076dfc-b9ad-4769-8c92-a6c4dae69d19",
    "_uuid": "8f2839f25d086af736a60e9eeb907d3b93b6e0e5",
    "execution": {
     "iopub.execute_input": "2022-05-24T17:21:25.386908Z",
     "iopub.status.busy": "2022-05-24T17:21:25.386457Z",
     "iopub.status.idle": "2022-05-24T17:21:25.395281Z",
     "shell.execute_reply": "2022-05-24T17:21:25.394436Z",
     "shell.execute_reply.started": "2022-05-24T17:21:25.386876Z"
    }
   },
   "outputs": [
    {
     "name": "stdout",
     "output_type": "stream",
     "text": [
      "/kaggle/input/competitive-data-science-predict-future-sales/items.csv\n",
      "/kaggle/input/competitive-data-science-predict-future-sales/sample_submission.csv\n",
      "/kaggle/input/competitive-data-science-predict-future-sales/item_categories.csv\n",
      "/kaggle/input/competitive-data-science-predict-future-sales/sales_train.csv\n",
      "/kaggle/input/competitive-data-science-predict-future-sales/shops.csv\n",
      "/kaggle/input/competitive-data-science-predict-future-sales/test.csv\n",
      "/kaggle/input/saved-model/Model.h5\n"
     ]
    }
   ],
   "source": [
    "# This Python 3 environment comes with many helpful analytics libraries installed\n",
    "# It is defined by the kaggle/python Docker image: https://github.com/kaggle/docker-python\n",
    "# For example, here's several helpful packages to load\n",
    "\n",
    "import numpy as np # linear algebra\n",
    "import pandas as pd # data processing, CSV file I/O (e.g. pd.read_csv)\n",
    "\n",
    "# Input data files are available in the read-only \"../input/\" directory\n",
    "# For example, running this (by clicking run or pressing Shift+Enter) will list all files under the input directory\n",
    "\n",
    "import os\n",
    "for dirname, _, filenames in os.walk('/kaggle/input'):\n",
    "    for filename in filenames:\n",
    "        print(os.path.join(dirname, filename))\n",
    "\n",
    "# You can write up to 20GB to the current directory (/kaggle/working/) that gets preserved as output when you create a version using \"Save & Run All\" \n",
    "# You can also write temporary files to /kaggle/temp/, but they won't be saved outside of the current session"
   ]
  },
  {
   "cell_type": "markdown",
   "metadata": {},
   "source": [
    "## Reading Inputs"
   ]
  },
  {
   "cell_type": "markdown",
   "metadata": {},
   "source": [
    "### Objective:\n",
    "We are provided with daily historical sales data. The task is to forecast the total amount of products sold in every shop for the test set using ML model.\n",
    "\n",
    "### Input Files description\n",
    "1. sales_train.csv - the training set. \n",
    "2. Daily historical data from January 2013 to October 2015.\n",
    "3. test.csv - the test set. You need to forecast the sales for these shops and products for November 2015.\n",
    "4. sample_submission.csv - a sample submission file in the correct format.\n",
    "5. items.csv - supplemental information about the items/products.\n",
    "6. item_categories.csv  - supplemental information about the items categories.\n",
    "7. shops.csv- supplemental information about the shops.\n",
    "\n",
    "\n",
    "### Data fields\n",
    "1. ID - an Id that represents a (Shop, Item) tuple within the test set\n",
    "2. shop_id - unique identifier of a shop\n",
    "3. item_id - unique identifier of a product\n",
    "4. item_category_id - unique identifier of item category\n",
    "5. item_cnt_day - number of products sold. **(To Predict sales of product for upcoming month)**\n",
    "6. item_price - current price of an item \n",
    "7. date - date in format dd/mm/yyyy\n",
    "8. date_block_num - a consecutive month number, used for convenience. January 2013 is 0, February 2013 is 1,..., October 2015 is 33\n",
    "9. item_name - name of item\n",
    "10. shop_name - name of shop\n",
    "11. item_category_name - name of item category\n",
    "\n"
   ]
  },
  {
   "cell_type": "code",
   "execution_count": 4,
   "metadata": {
    "execution": {
     "iopub.execute_input": "2022-05-24T17:21:33.978212Z",
     "iopub.status.busy": "2022-05-24T17:21:33.977309Z",
     "iopub.status.idle": "2022-05-24T17:21:34.090049Z",
     "shell.execute_reply": "2022-05-24T17:21:34.089078Z",
     "shell.execute_reply.started": "2022-05-24T17:21:33.978174Z"
    }
   },
   "outputs": [
    {
     "data": {
      "text/html": [
       "<div>\n",
       "<style scoped>\n",
       "    .dataframe tbody tr th:only-of-type {\n",
       "        vertical-align: middle;\n",
       "    }\n",
       "\n",
       "    .dataframe tbody tr th {\n",
       "        vertical-align: top;\n",
       "    }\n",
       "\n",
       "    .dataframe thead th {\n",
       "        text-align: right;\n",
       "    }\n",
       "</style>\n",
       "<table border=\"1\" class=\"dataframe\">\n",
       "  <thead>\n",
       "    <tr style=\"text-align: right;\">\n",
       "      <th></th>\n",
       "      <th>count</th>\n",
       "      <th>mean</th>\n",
       "      <th>std</th>\n",
       "      <th>min</th>\n",
       "      <th>25%</th>\n",
       "      <th>50%</th>\n",
       "      <th>75%</th>\n",
       "      <th>max</th>\n",
       "    </tr>\n",
       "  </thead>\n",
       "  <tbody>\n",
       "    <tr>\n",
       "      <th>item_id</th>\n",
       "      <td>22170.0</td>\n",
       "      <td>11084.500000</td>\n",
       "      <td>6400.072070</td>\n",
       "      <td>0.0</td>\n",
       "      <td>5542.25</td>\n",
       "      <td>11084.5</td>\n",
       "      <td>16626.75</td>\n",
       "      <td>22169.0</td>\n",
       "    </tr>\n",
       "    <tr>\n",
       "      <th>item_category_id</th>\n",
       "      <td>22170.0</td>\n",
       "      <td>46.290753</td>\n",
       "      <td>15.941486</td>\n",
       "      <td>0.0</td>\n",
       "      <td>37.00</td>\n",
       "      <td>40.0</td>\n",
       "      <td>58.00</td>\n",
       "      <td>83.0</td>\n",
       "    </tr>\n",
       "  </tbody>\n",
       "</table>\n",
       "</div>"
      ],
      "text/plain": [
       "                    count          mean          std  min      25%      50%  \\\n",
       "item_id           22170.0  11084.500000  6400.072070  0.0  5542.25  11084.5   \n",
       "item_category_id  22170.0     46.290753    15.941486  0.0    37.00     40.0   \n",
       "\n",
       "                       75%      max  \n",
       "item_id           16626.75  22169.0  \n",
       "item_category_id     58.00     83.0  "
      ]
     },
     "execution_count": 4,
     "metadata": {},
     "output_type": "execute_result"
    }
   ],
   "source": [
    "#reading Inputs\n",
    "items_df=pd.read_csv('/kaggle/input/competitive-data-science-predict-future-sales/items.csv')\n",
    "#items_df\n",
    "items_df.describe().T"
   ]
  },
  {
   "cell_type": "code",
   "execution_count": 3,
   "metadata": {
    "execution": {
     "iopub.execute_input": "2022-05-24T17:21:29.978060Z",
     "iopub.status.busy": "2022-05-24T17:21:29.977754Z",
     "iopub.status.idle": "2022-05-24T17:21:29.999543Z",
     "shell.execute_reply": "2022-05-24T17:21:29.998755Z",
     "shell.execute_reply.started": "2022-05-24T17:21:29.978028Z"
    }
   },
   "outputs": [],
   "source": [
    "item_categories_df=pd.read_csv('/kaggle/input/competitive-data-science-predict-future-sales/item_categories.csv')\n",
    "shops_df=pd.read_csv('/kaggle/input/competitive-data-science-predict-future-sales/shops.csv')\n"
   ]
  },
  {
   "cell_type": "code",
   "execution_count": 5,
   "metadata": {
    "execution": {
     "iopub.execute_input": "2022-05-24T17:21:38.070667Z",
     "iopub.status.busy": "2022-05-24T17:21:38.070304Z",
     "iopub.status.idle": "2022-05-24T17:21:40.695374Z",
     "shell.execute_reply": "2022-05-24T17:21:40.694353Z",
     "shell.execute_reply.started": "2022-05-24T17:21:38.070634Z"
    }
   },
   "outputs": [
    {
     "data": {
      "text/html": [
       "<div>\n",
       "<style scoped>\n",
       "    .dataframe tbody tr th:only-of-type {\n",
       "        vertical-align: middle;\n",
       "    }\n",
       "\n",
       "    .dataframe tbody tr th {\n",
       "        vertical-align: top;\n",
       "    }\n",
       "\n",
       "    .dataframe thead th {\n",
       "        text-align: right;\n",
       "    }\n",
       "</style>\n",
       "<table border=\"1\" class=\"dataframe\">\n",
       "  <thead>\n",
       "    <tr style=\"text-align: right;\">\n",
       "      <th></th>\n",
       "      <th>date</th>\n",
       "      <th>date_block_num</th>\n",
       "      <th>shop_id</th>\n",
       "      <th>item_id</th>\n",
       "      <th>item_price</th>\n",
       "      <th>item_cnt_day</th>\n",
       "    </tr>\n",
       "  </thead>\n",
       "  <tbody>\n",
       "    <tr>\n",
       "      <th>0</th>\n",
       "      <td>02.01.2013</td>\n",
       "      <td>0</td>\n",
       "      <td>59</td>\n",
       "      <td>22154</td>\n",
       "      <td>999.00</td>\n",
       "      <td>1.0</td>\n",
       "    </tr>\n",
       "    <tr>\n",
       "      <th>1</th>\n",
       "      <td>03.01.2013</td>\n",
       "      <td>0</td>\n",
       "      <td>25</td>\n",
       "      <td>2552</td>\n",
       "      <td>899.00</td>\n",
       "      <td>1.0</td>\n",
       "    </tr>\n",
       "    <tr>\n",
       "      <th>2</th>\n",
       "      <td>05.01.2013</td>\n",
       "      <td>0</td>\n",
       "      <td>25</td>\n",
       "      <td>2552</td>\n",
       "      <td>899.00</td>\n",
       "      <td>-1.0</td>\n",
       "    </tr>\n",
       "    <tr>\n",
       "      <th>3</th>\n",
       "      <td>06.01.2013</td>\n",
       "      <td>0</td>\n",
       "      <td>25</td>\n",
       "      <td>2554</td>\n",
       "      <td>1709.05</td>\n",
       "      <td>1.0</td>\n",
       "    </tr>\n",
       "    <tr>\n",
       "      <th>4</th>\n",
       "      <td>15.01.2013</td>\n",
       "      <td>0</td>\n",
       "      <td>25</td>\n",
       "      <td>2555</td>\n",
       "      <td>1099.00</td>\n",
       "      <td>1.0</td>\n",
       "    </tr>\n",
       "    <tr>\n",
       "      <th>...</th>\n",
       "      <td>...</td>\n",
       "      <td>...</td>\n",
       "      <td>...</td>\n",
       "      <td>...</td>\n",
       "      <td>...</td>\n",
       "      <td>...</td>\n",
       "    </tr>\n",
       "    <tr>\n",
       "      <th>2935844</th>\n",
       "      <td>10.10.2015</td>\n",
       "      <td>33</td>\n",
       "      <td>25</td>\n",
       "      <td>7409</td>\n",
       "      <td>299.00</td>\n",
       "      <td>1.0</td>\n",
       "    </tr>\n",
       "    <tr>\n",
       "      <th>2935845</th>\n",
       "      <td>09.10.2015</td>\n",
       "      <td>33</td>\n",
       "      <td>25</td>\n",
       "      <td>7460</td>\n",
       "      <td>299.00</td>\n",
       "      <td>1.0</td>\n",
       "    </tr>\n",
       "    <tr>\n",
       "      <th>2935846</th>\n",
       "      <td>14.10.2015</td>\n",
       "      <td>33</td>\n",
       "      <td>25</td>\n",
       "      <td>7459</td>\n",
       "      <td>349.00</td>\n",
       "      <td>1.0</td>\n",
       "    </tr>\n",
       "    <tr>\n",
       "      <th>2935847</th>\n",
       "      <td>22.10.2015</td>\n",
       "      <td>33</td>\n",
       "      <td>25</td>\n",
       "      <td>7440</td>\n",
       "      <td>299.00</td>\n",
       "      <td>1.0</td>\n",
       "    </tr>\n",
       "    <tr>\n",
       "      <th>2935848</th>\n",
       "      <td>03.10.2015</td>\n",
       "      <td>33</td>\n",
       "      <td>25</td>\n",
       "      <td>7460</td>\n",
       "      <td>299.00</td>\n",
       "      <td>1.0</td>\n",
       "    </tr>\n",
       "  </tbody>\n",
       "</table>\n",
       "<p>2935849 rows × 6 columns</p>\n",
       "</div>"
      ],
      "text/plain": [
       "               date  date_block_num  shop_id  item_id  item_price  \\\n",
       "0        02.01.2013               0       59    22154      999.00   \n",
       "1        03.01.2013               0       25     2552      899.00   \n",
       "2        05.01.2013               0       25     2552      899.00   \n",
       "3        06.01.2013               0       25     2554     1709.05   \n",
       "4        15.01.2013               0       25     2555     1099.00   \n",
       "...             ...             ...      ...      ...         ...   \n",
       "2935844  10.10.2015              33       25     7409      299.00   \n",
       "2935845  09.10.2015              33       25     7460      299.00   \n",
       "2935846  14.10.2015              33       25     7459      349.00   \n",
       "2935847  22.10.2015              33       25     7440      299.00   \n",
       "2935848  03.10.2015              33       25     7460      299.00   \n",
       "\n",
       "         item_cnt_day  \n",
       "0                 1.0  \n",
       "1                 1.0  \n",
       "2                -1.0  \n",
       "3                 1.0  \n",
       "4                 1.0  \n",
       "...               ...  \n",
       "2935844           1.0  \n",
       "2935845           1.0  \n",
       "2935846           1.0  \n",
       "2935847           1.0  \n",
       "2935848           1.0  \n",
       "\n",
       "[2935849 rows x 6 columns]"
      ]
     },
     "execution_count": 5,
     "metadata": {},
     "output_type": "execute_result"
    }
   ],
   "source": [
    "sales_train_df=pd.read_csv('/kaggle/input/competitive-data-science-predict-future-sales/sales_train.csv')\n",
    "sales_train_df"
   ]
  },
  {
   "cell_type": "markdown",
   "metadata": {},
   "source": [
    "## Exploratory Data Analysis"
   ]
  },
  {
   "cell_type": "code",
   "execution_count": 9,
   "metadata": {
    "execution": {
     "iopub.execute_input": "2022-05-24T17:22:36.035700Z",
     "iopub.status.busy": "2022-05-24T17:22:36.035416Z",
     "iopub.status.idle": "2022-05-24T17:22:36.348391Z",
     "shell.execute_reply": "2022-05-24T17:22:36.347468Z",
     "shell.execute_reply.started": "2022-05-24T17:22:36.035671Z"
    }
   },
   "outputs": [
    {
     "data": {
      "text/plain": [
       "<function matplotlib.pyplot.show(close=None, block=None)>"
      ]
     },
     "execution_count": 9,
     "metadata": {},
     "output_type": "execute_result"
    },
    {
     "data": {
      "image/png": "[encoded data removed]",
      "text/plain": [
       "<Figure size 432x360 with 1 Axes>"
      ]
     },
     "metadata": {
      "needs_background": "light"
     },
     "output_type": "display_data"
    }
   ],
   "source": [
    "#distribution of item ID\n",
    "import matplotlib.pyplot as plt\n",
    "plt.figure(figsize=(6,5))\n",
    "plt.hist(sales_train_df['item_id'])\n",
    "plt.show"
   ]
  },
  {
   "cell_type": "code",
   "execution_count": 7,
   "metadata": {
    "execution": {
     "iopub.execute_input": "2022-05-24T15:53:08.154881Z",
     "iopub.status.busy": "2022-05-24T15:53:08.154646Z",
     "iopub.status.idle": "2022-05-24T15:53:11.009428Z",
     "shell.execute_reply": "2022-05-24T15:53:11.008474Z",
     "shell.execute_reply.started": "2022-05-24T15:53:08.154853Z"
    }
   },
   "outputs": [
    {
     "data": {
      "text/html": [
       "<div>\n",
       "<style scoped>\n",
       "    .dataframe tbody tr th:only-of-type {\n",
       "        vertical-align: middle;\n",
       "    }\n",
       "\n",
       "    .dataframe tbody tr th {\n",
       "        vertical-align: top;\n",
       "    }\n",
       "\n",
       "    .dataframe thead th {\n",
       "        text-align: right;\n",
       "    }\n",
       "</style>\n",
       "<table border=\"1\" class=\"dataframe\">\n",
       "  <thead>\n",
       "    <tr style=\"text-align: right;\">\n",
       "      <th></th>\n",
       "      <th>date</th>\n",
       "      <th>date_block_num</th>\n",
       "      <th>shop_id</th>\n",
       "      <th>item_price</th>\n",
       "      <th>item_cnt_day</th>\n",
       "    </tr>\n",
       "    <tr>\n",
       "      <th>item_id</th>\n",
       "      <th></th>\n",
       "      <th></th>\n",
       "      <th></th>\n",
       "      <th></th>\n",
       "      <th></th>\n",
       "    </tr>\n",
       "  </thead>\n",
       "  <tbody>\n",
       "    <tr>\n",
       "      <th>0</th>\n",
       "      <td>1</td>\n",
       "      <td>1</td>\n",
       "      <td>1</td>\n",
       "      <td>1</td>\n",
       "      <td>1</td>\n",
       "    </tr>\n",
       "    <tr>\n",
       "      <th>1</th>\n",
       "      <td>6</td>\n",
       "      <td>5</td>\n",
       "      <td>1</td>\n",
       "      <td>1</td>\n",
       "      <td>1</td>\n",
       "    </tr>\n",
       "    <tr>\n",
       "      <th>2</th>\n",
       "      <td>2</td>\n",
       "      <td>2</td>\n",
       "      <td>1</td>\n",
       "      <td>1</td>\n",
       "      <td>1</td>\n",
       "    </tr>\n",
       "    <tr>\n",
       "      <th>3</th>\n",
       "      <td>2</td>\n",
       "      <td>2</td>\n",
       "      <td>1</td>\n",
       "      <td>2</td>\n",
       "      <td>1</td>\n",
       "    </tr>\n",
       "    <tr>\n",
       "      <th>4</th>\n",
       "      <td>1</td>\n",
       "      <td>1</td>\n",
       "      <td>1</td>\n",
       "      <td>1</td>\n",
       "      <td>1</td>\n",
       "    </tr>\n",
       "    <tr>\n",
       "      <th>...</th>\n",
       "      <td>...</td>\n",
       "      <td>...</td>\n",
       "      <td>...</td>\n",
       "      <td>...</td>\n",
       "      <td>...</td>\n",
       "    </tr>\n",
       "    <tr>\n",
       "      <th>22165</th>\n",
       "      <td>2</td>\n",
       "      <td>2</td>\n",
       "      <td>1</td>\n",
       "      <td>1</td>\n",
       "      <td>1</td>\n",
       "    </tr>\n",
       "    <tr>\n",
       "      <th>22166</th>\n",
       "      <td>270</td>\n",
       "      <td>25</td>\n",
       "      <td>1</td>\n",
       "      <td>1</td>\n",
       "      <td>4</td>\n",
       "    </tr>\n",
       "    <tr>\n",
       "      <th>22167</th>\n",
       "      <td>571</td>\n",
       "      <td>26</td>\n",
       "      <td>49</td>\n",
       "      <td>8</td>\n",
       "      <td>8</td>\n",
       "    </tr>\n",
       "    <tr>\n",
       "      <th>22168</th>\n",
       "      <td>6</td>\n",
       "      <td>4</td>\n",
       "      <td>5</td>\n",
       "      <td>2</td>\n",
       "      <td>1</td>\n",
       "    </tr>\n",
       "    <tr>\n",
       "      <th>22169</th>\n",
       "      <td>1</td>\n",
       "      <td>1</td>\n",
       "      <td>1</td>\n",
       "      <td>1</td>\n",
       "      <td>1</td>\n",
       "    </tr>\n",
       "  </tbody>\n",
       "</table>\n",
       "<p>21807 rows × 5 columns</p>\n",
       "</div>"
      ],
      "text/plain": [
       "         date  date_block_num  shop_id  item_price  item_cnt_day\n",
       "item_id                                                         \n",
       "0           1               1        1           1             1\n",
       "1           6               5        1           1             1\n",
       "2           2               2        1           1             1\n",
       "3           2               2        1           2             1\n",
       "4           1               1        1           1             1\n",
       "...       ...             ...      ...         ...           ...\n",
       "22165       2               2        1           1             1\n",
       "22166     270              25        1           1             4\n",
       "22167     571              26       49           8             8\n",
       "22168       6               4        5           2             1\n",
       "22169       1               1        1           1             1\n",
       "\n",
       "[21807 rows x 5 columns]"
      ]
     },
     "execution_count": 7,
     "metadata": {},
     "output_type": "execute_result"
    }
   ],
   "source": [
    "sales_train_df.groupby(['item_id']).nunique()"
   ]
  },
  {
   "cell_type": "markdown",
   "metadata": {},
   "source": [
    "##### There are 21807 unique items"
   ]
  },
  {
   "cell_type": "code",
   "execution_count": 8,
   "metadata": {
    "execution": {
     "iopub.execute_input": "2022-05-24T15:53:11.011209Z",
     "iopub.status.busy": "2022-05-24T15:53:11.010694Z",
     "iopub.status.idle": "2022-05-24T15:53:11.241394Z",
     "shell.execute_reply": "2022-05-24T15:53:11.240451Z",
     "shell.execute_reply.started": "2022-05-24T15:53:11.011148Z"
    }
   },
   "outputs": [
    {
     "data": {
      "text/html": [
       "<div>\n",
       "<style scoped>\n",
       "    .dataframe tbody tr th:only-of-type {\n",
       "        vertical-align: middle;\n",
       "    }\n",
       "\n",
       "    .dataframe tbody tr th {\n",
       "        vertical-align: top;\n",
       "    }\n",
       "\n",
       "    .dataframe thead th {\n",
       "        text-align: right;\n",
       "    }\n",
       "</style>\n",
       "<table border=\"1\" class=\"dataframe\">\n",
       "  <thead>\n",
       "    <tr style=\"text-align: right;\">\n",
       "      <th></th>\n",
       "      <th>shop_id</th>\n",
       "      <th>item_id</th>\n",
       "      <th>item_price</th>\n",
       "      <th>item_cnt_day</th>\n",
       "    </tr>\n",
       "  </thead>\n",
       "  <tbody>\n",
       "    <tr>\n",
       "      <th>shop_id</th>\n",
       "      <td>1.000000</td>\n",
       "      <td>0.029396</td>\n",
       "      <td>-0.024034</td>\n",
       "      <td>-0.005230</td>\n",
       "    </tr>\n",
       "    <tr>\n",
       "      <th>item_id</th>\n",
       "      <td>0.029396</td>\n",
       "      <td>1.000000</td>\n",
       "      <td>-0.134104</td>\n",
       "      <td>0.016650</td>\n",
       "    </tr>\n",
       "    <tr>\n",
       "      <th>item_price</th>\n",
       "      <td>-0.024034</td>\n",
       "      <td>-0.134104</td>\n",
       "      <td>1.000000</td>\n",
       "      <td>0.011197</td>\n",
       "    </tr>\n",
       "    <tr>\n",
       "      <th>item_cnt_day</th>\n",
       "      <td>-0.005230</td>\n",
       "      <td>0.016650</td>\n",
       "      <td>0.011197</td>\n",
       "      <td>1.000000</td>\n",
       "    </tr>\n",
       "  </tbody>\n",
       "</table>\n",
       "</div>"
      ],
      "text/plain": [
       "               shop_id   item_id  item_price  item_cnt_day\n",
       "shop_id       1.000000  0.029396   -0.024034     -0.005230\n",
       "item_id       0.029396  1.000000   -0.134104      0.016650\n",
       "item_price   -0.024034 -0.134104    1.000000      0.011197\n",
       "item_cnt_day -0.005230  0.016650    0.011197      1.000000"
      ]
     },
     "execution_count": 8,
     "metadata": {},
     "output_type": "execute_result"
    }
   ],
   "source": [
    "sales_train_df[['shop_id','item_id','item_price','item_cnt_day']].corr()"
   ]
  },
  {
   "cell_type": "markdown",
   "metadata": {},
   "source": [
    "No significant correlation between any 2 columns!"
   ]
  },
  {
   "cell_type": "code",
   "execution_count": 9,
   "metadata": {
    "execution": {
     "iopub.execute_input": "2022-05-24T15:53:14.435386Z",
     "iopub.status.busy": "2022-05-24T15:53:14.435062Z",
     "iopub.status.idle": "2022-05-24T15:53:16.775196Z",
     "shell.execute_reply": "2022-05-24T15:53:16.774367Z",
     "shell.execute_reply.started": "2022-05-24T15:53:14.435355Z"
    }
   },
   "outputs": [
    {
     "data": {
      "text/html": [
       "<div>\n",
       "<style scoped>\n",
       "    .dataframe tbody tr th:only-of-type {\n",
       "        vertical-align: middle;\n",
       "    }\n",
       "\n",
       "    .dataframe tbody tr th {\n",
       "        vertical-align: top;\n",
       "    }\n",
       "\n",
       "    .dataframe thead th {\n",
       "        text-align: right;\n",
       "    }\n",
       "</style>\n",
       "<table border=\"1\" class=\"dataframe\">\n",
       "  <thead>\n",
       "    <tr style=\"text-align: right;\">\n",
       "      <th></th>\n",
       "      <th>date</th>\n",
       "      <th>date_block_num</th>\n",
       "      <th>item_id</th>\n",
       "      <th>item_price</th>\n",
       "      <th>item_cnt_day</th>\n",
       "    </tr>\n",
       "    <tr>\n",
       "      <th>shop_id</th>\n",
       "      <th></th>\n",
       "      <th></th>\n",
       "      <th></th>\n",
       "      <th></th>\n",
       "      <th></th>\n",
       "    </tr>\n",
       "  </thead>\n",
       "  <tbody>\n",
       "    <tr>\n",
       "      <th>0</th>\n",
       "      <td>57</td>\n",
       "      <td>2</td>\n",
       "      <td>3600</td>\n",
       "      <td>621</td>\n",
       "      <td>11</td>\n",
       "    </tr>\n",
       "    <tr>\n",
       "      <th>1</th>\n",
       "      <td>56</td>\n",
       "      <td>2</td>\n",
       "      <td>2523</td>\n",
       "      <td>485</td>\n",
       "      <td>11</td>\n",
       "    </tr>\n",
       "    <tr>\n",
       "      <th>2</th>\n",
       "      <td>1018</td>\n",
       "      <td>34</td>\n",
       "      <td>4849</td>\n",
       "      <td>1114</td>\n",
       "      <td>33</td>\n",
       "    </tr>\n",
       "    <tr>\n",
       "      <th>3</th>\n",
       "      <td>1028</td>\n",
       "      <td>34</td>\n",
       "      <td>5261</td>\n",
       "      <td>1021</td>\n",
       "      <td>26</td>\n",
       "    </tr>\n",
       "    <tr>\n",
       "      <th>4</th>\n",
       "      <td>1010</td>\n",
       "      <td>34</td>\n",
       "      <td>7309</td>\n",
       "      <td>1258</td>\n",
       "      <td>31</td>\n",
       "    </tr>\n",
       "    <tr>\n",
       "      <th>5</th>\n",
       "      <td>996</td>\n",
       "      <td>33</td>\n",
       "      <td>7084</td>\n",
       "      <td>1182</td>\n",
       "      <td>28</td>\n",
       "    </tr>\n",
       "    <tr>\n",
       "      <th>6</th>\n",
       "      <td>1031</td>\n",
       "      <td>34</td>\n",
       "      <td>11856</td>\n",
       "      <td>2098</td>\n",
       "      <td>61</td>\n",
       "    </tr>\n",
       "    <tr>\n",
       "      <th>7</th>\n",
       "      <td>1034</td>\n",
       "      <td>34</td>\n",
       "      <td>8246</td>\n",
       "      <td>1594</td>\n",
       "      <td>38</td>\n",
       "    </tr>\n",
       "    <tr>\n",
       "      <th>8</th>\n",
       "      <td>84</td>\n",
       "      <td>4</td>\n",
       "      <td>1909</td>\n",
       "      <td>214</td>\n",
       "      <td>8</td>\n",
       "    </tr>\n",
       "    <tr>\n",
       "      <th>9</th>\n",
       "      <td>14</td>\n",
       "      <td>4</td>\n",
       "      <td>1404</td>\n",
       "      <td>475</td>\n",
       "      <td>62</td>\n",
       "    </tr>\n",
       "    <tr>\n",
       "      <th>10</th>\n",
       "      <td>1001</td>\n",
       "      <td>33</td>\n",
       "      <td>6002</td>\n",
       "      <td>2482</td>\n",
       "      <td>23</td>\n",
       "    </tr>\n",
       "    <tr>\n",
       "      <th>11</th>\n",
       "      <td>28</td>\n",
       "      <td>1</td>\n",
       "      <td>371</td>\n",
       "      <td>274</td>\n",
       "      <td>7</td>\n",
       "    </tr>\n",
       "    <tr>\n",
       "      <th>12</th>\n",
       "      <td>826</td>\n",
       "      <td>34</td>\n",
       "      <td>7382</td>\n",
       "      <td>2524</td>\n",
       "      <td>132</td>\n",
       "    </tr>\n",
       "    <tr>\n",
       "      <th>13</th>\n",
       "      <td>585</td>\n",
       "      <td>20</td>\n",
       "      <td>4865</td>\n",
       "      <td>870</td>\n",
       "      <td>17</td>\n",
       "    </tr>\n",
       "    <tr>\n",
       "      <th>14</th>\n",
       "      <td>1014</td>\n",
       "      <td>34</td>\n",
       "      <td>7451</td>\n",
       "      <td>1320</td>\n",
       "      <td>44</td>\n",
       "    </tr>\n",
       "    <tr>\n",
       "      <th>15</th>\n",
       "      <td>1033</td>\n",
       "      <td>34</td>\n",
       "      <td>8269</td>\n",
       "      <td>1631</td>\n",
       "      <td>44</td>\n",
       "    </tr>\n",
       "    <tr>\n",
       "      <th>16</th>\n",
       "      <td>1024</td>\n",
       "      <td>34</td>\n",
       "      <td>9375</td>\n",
       "      <td>1433</td>\n",
       "      <td>30</td>\n",
       "    </tr>\n",
       "    <tr>\n",
       "      <th>17</th>\n",
       "      <td>590</td>\n",
       "      <td>20</td>\n",
       "      <td>5158</td>\n",
       "      <td>881</td>\n",
       "      <td>25</td>\n",
       "    </tr>\n",
       "    <tr>\n",
       "      <th>18</th>\n",
       "      <td>1026</td>\n",
       "      <td>34</td>\n",
       "      <td>9073</td>\n",
       "      <td>1810</td>\n",
       "      <td>47</td>\n",
       "    </tr>\n",
       "    <tr>\n",
       "      <th>19</th>\n",
       "      <td>1031</td>\n",
       "      <td>34</td>\n",
       "      <td>9558</td>\n",
       "      <td>1466</td>\n",
       "      <td>37</td>\n",
       "    </tr>\n",
       "    <tr>\n",
       "      <th>20</th>\n",
       "      <td>9</td>\n",
       "      <td>2</td>\n",
       "      <td>746</td>\n",
       "      <td>185</td>\n",
       "      <td>35</td>\n",
       "    </tr>\n",
       "    <tr>\n",
       "      <th>21</th>\n",
       "      <td>1031</td>\n",
       "      <td>34</td>\n",
       "      <td>10145</td>\n",
       "      <td>1758</td>\n",
       "      <td>45</td>\n",
       "    </tr>\n",
       "    <tr>\n",
       "      <th>22</th>\n",
       "      <td>1031</td>\n",
       "      <td>34</td>\n",
       "      <td>7951</td>\n",
       "      <td>1887</td>\n",
       "      <td>53</td>\n",
       "    </tr>\n",
       "    <tr>\n",
       "      <th>23</th>\n",
       "      <td>117</td>\n",
       "      <td>4</td>\n",
       "      <td>2949</td>\n",
       "      <td>333</td>\n",
       "      <td>13</td>\n",
       "    </tr>\n",
       "    <tr>\n",
       "      <th>24</th>\n",
       "      <td>1012</td>\n",
       "      <td>34</td>\n",
       "      <td>8087</td>\n",
       "      <td>1592</td>\n",
       "      <td>33</td>\n",
       "    </tr>\n",
       "    <tr>\n",
       "      <th>25</th>\n",
       "      <td>1030</td>\n",
       "      <td>34</td>\n",
       "      <td>15367</td>\n",
       "      <td>3241</td>\n",
       "      <td>89</td>\n",
       "    </tr>\n",
       "    <tr>\n",
       "      <th>26</th>\n",
       "      <td>1031</td>\n",
       "      <td>34</td>\n",
       "      <td>9289</td>\n",
       "      <td>1676</td>\n",
       "      <td>52</td>\n",
       "    </tr>\n",
       "    <tr>\n",
       "      <th>27</th>\n",
       "      <td>899</td>\n",
       "      <td>32</td>\n",
       "      <td>10842</td>\n",
       "      <td>2494</td>\n",
       "      <td>64</td>\n",
       "    </tr>\n",
       "    <tr>\n",
       "      <th>28</th>\n",
       "      <td>1032</td>\n",
       "      <td>34</td>\n",
       "      <td>12572</td>\n",
       "      <td>2683</td>\n",
       "      <td>63</td>\n",
       "    </tr>\n",
       "    <tr>\n",
       "      <th>29</th>\n",
       "      <td>875</td>\n",
       "      <td>29</td>\n",
       "      <td>7806</td>\n",
       "      <td>1222</td>\n",
       "      <td>41</td>\n",
       "    </tr>\n",
       "    <tr>\n",
       "      <th>30</th>\n",
       "      <td>778</td>\n",
       "      <td>26</td>\n",
       "      <td>9512</td>\n",
       "      <td>1327</td>\n",
       "      <td>35</td>\n",
       "    </tr>\n",
       "    <tr>\n",
       "      <th>31</th>\n",
       "      <td>1031</td>\n",
       "      <td>34</td>\n",
       "      <td>14416</td>\n",
       "      <td>3694</td>\n",
       "      <td>84</td>\n",
       "    </tr>\n",
       "    <tr>\n",
       "      <th>32</th>\n",
       "      <td>183</td>\n",
       "      <td>7</td>\n",
       "      <td>3299</td>\n",
       "      <td>406</td>\n",
       "      <td>18</td>\n",
       "    </tr>\n",
       "    <tr>\n",
       "      <th>33</th>\n",
       "      <td>201</td>\n",
       "      <td>9</td>\n",
       "      <td>1900</td>\n",
       "      <td>379</td>\n",
       "      <td>10</td>\n",
       "    </tr>\n",
       "    <tr>\n",
       "      <th>34</th>\n",
       "      <td>457</td>\n",
       "      <td>16</td>\n",
       "      <td>1860</td>\n",
       "      <td>540</td>\n",
       "      <td>16</td>\n",
       "    </tr>\n",
       "    <tr>\n",
       "      <th>35</th>\n",
       "      <td>1033</td>\n",
       "      <td>34</td>\n",
       "      <td>9108</td>\n",
       "      <td>2411</td>\n",
       "      <td>41</td>\n",
       "    </tr>\n",
       "    <tr>\n",
       "      <th>36</th>\n",
       "      <td>14</td>\n",
       "      <td>1</td>\n",
       "      <td>258</td>\n",
       "      <td>87</td>\n",
       "      <td>5</td>\n",
       "    </tr>\n",
       "    <tr>\n",
       "      <th>37</th>\n",
       "      <td>1026</td>\n",
       "      <td>34</td>\n",
       "      <td>8405</td>\n",
       "      <td>1274</td>\n",
       "      <td>37</td>\n",
       "    </tr>\n",
       "    <tr>\n",
       "      <th>38</th>\n",
       "      <td>1034</td>\n",
       "      <td>34</td>\n",
       "      <td>7356</td>\n",
       "      <td>1750</td>\n",
       "      <td>41</td>\n",
       "    </tr>\n",
       "    <tr>\n",
       "      <th>39</th>\n",
       "      <td>608</td>\n",
       "      <td>20</td>\n",
       "      <td>4096</td>\n",
       "      <td>813</td>\n",
       "      <td>30</td>\n",
       "    </tr>\n",
       "    <tr>\n",
       "      <th>40</th>\n",
       "      <td>332</td>\n",
       "      <td>11</td>\n",
       "      <td>817</td>\n",
       "      <td>172</td>\n",
       "      <td>14</td>\n",
       "    </tr>\n",
       "    <tr>\n",
       "      <th>41</th>\n",
       "      <td>1028</td>\n",
       "      <td>34</td>\n",
       "      <td>7227</td>\n",
       "      <td>1315</td>\n",
       "      <td>36</td>\n",
       "    </tr>\n",
       "    <tr>\n",
       "      <th>42</th>\n",
       "      <td>1033</td>\n",
       "      <td>34</td>\n",
       "      <td>12034</td>\n",
       "      <td>2695</td>\n",
       "      <td>73</td>\n",
       "    </tr>\n",
       "    <tr>\n",
       "      <th>43</th>\n",
       "      <td>749</td>\n",
       "      <td>25</td>\n",
       "      <td>6737</td>\n",
       "      <td>1411</td>\n",
       "      <td>51</td>\n",
       "    </tr>\n",
       "    <tr>\n",
       "      <th>44</th>\n",
       "      <td>1031</td>\n",
       "      <td>34</td>\n",
       "      <td>8894</td>\n",
       "      <td>1021</td>\n",
       "      <td>33</td>\n",
       "    </tr>\n",
       "    <tr>\n",
       "      <th>45</th>\n",
       "      <td>1029</td>\n",
       "      <td>34</td>\n",
       "      <td>7303</td>\n",
       "      <td>1268</td>\n",
       "      <td>35</td>\n",
       "    </tr>\n",
       "    <tr>\n",
       "      <th>46</th>\n",
       "      <td>1032</td>\n",
       "      <td>34</td>\n",
       "      <td>9149</td>\n",
       "      <td>1630</td>\n",
       "      <td>44</td>\n",
       "    </tr>\n",
       "    <tr>\n",
       "      <th>47</th>\n",
       "      <td>1030</td>\n",
       "      <td>34</td>\n",
       "      <td>7912</td>\n",
       "      <td>1581</td>\n",
       "      <td>43</td>\n",
       "    </tr>\n",
       "    <tr>\n",
       "      <th>48</th>\n",
       "      <td>551</td>\n",
       "      <td>19</td>\n",
       "      <td>4063</td>\n",
       "      <td>939</td>\n",
       "      <td>28</td>\n",
       "    </tr>\n",
       "    <tr>\n",
       "      <th>49</th>\n",
       "      <td>673</td>\n",
       "      <td>23</td>\n",
       "      <td>3786</td>\n",
       "      <td>782</td>\n",
       "      <td>16</td>\n",
       "    </tr>\n",
       "    <tr>\n",
       "      <th>50</th>\n",
       "      <td>1031</td>\n",
       "      <td>34</td>\n",
       "      <td>9176</td>\n",
       "      <td>1601</td>\n",
       "      <td>36</td>\n",
       "    </tr>\n",
       "    <tr>\n",
       "      <th>51</th>\n",
       "      <td>998</td>\n",
       "      <td>33</td>\n",
       "      <td>8739</td>\n",
       "      <td>3091</td>\n",
       "      <td>24</td>\n",
       "    </tr>\n",
       "    <tr>\n",
       "      <th>52</th>\n",
       "      <td>1031</td>\n",
       "      <td>34</td>\n",
       "      <td>8416</td>\n",
       "      <td>1203</td>\n",
       "      <td>37</td>\n",
       "    </tr>\n",
       "    <tr>\n",
       "      <th>53</th>\n",
       "      <td>1031</td>\n",
       "      <td>34</td>\n",
       "      <td>7455</td>\n",
       "      <td>1467</td>\n",
       "      <td>31</td>\n",
       "    </tr>\n",
       "    <tr>\n",
       "      <th>54</th>\n",
       "      <td>826</td>\n",
       "      <td>28</td>\n",
       "      <td>13863</td>\n",
       "      <td>2346</td>\n",
       "      <td>67</td>\n",
       "    </tr>\n",
       "    <tr>\n",
       "      <th>55</th>\n",
       "      <td>914</td>\n",
       "      <td>30</td>\n",
       "      <td>1985</td>\n",
       "      <td>519</td>\n",
       "      <td>100</td>\n",
       "    </tr>\n",
       "    <tr>\n",
       "      <th>56</th>\n",
       "      <td>1030</td>\n",
       "      <td>34</td>\n",
       "      <td>11049</td>\n",
       "      <td>1428</td>\n",
       "      <td>31</td>\n",
       "    </tr>\n",
       "    <tr>\n",
       "      <th>57</th>\n",
       "      <td>972</td>\n",
       "      <td>32</td>\n",
       "      <td>12281</td>\n",
       "      <td>1918</td>\n",
       "      <td>45</td>\n",
       "    </tr>\n",
       "    <tr>\n",
       "      <th>58</th>\n",
       "      <td>957</td>\n",
       "      <td>32</td>\n",
       "      <td>8393</td>\n",
       "      <td>1451</td>\n",
       "      <td>31</td>\n",
       "    </tr>\n",
       "    <tr>\n",
       "      <th>59</th>\n",
       "      <td>1032</td>\n",
       "      <td>34</td>\n",
       "      <td>7336</td>\n",
       "      <td>1428</td>\n",
       "      <td>34</td>\n",
       "    </tr>\n",
       "  </tbody>\n",
       "</table>\n",
       "</div>"
      ],
      "text/plain": [
       "         date  date_block_num  item_id  item_price  item_cnt_day\n",
       "shop_id                                                         \n",
       "0          57               2     3600         621            11\n",
       "1          56               2     2523         485            11\n",
       "2        1018              34     4849        1114            33\n",
       "3        1028              34     5261        1021            26\n",
       "4        1010              34     7309        1258            31\n",
       "5         996              33     7084        1182            28\n",
       "6        1031              34    11856        2098            61\n",
       "7        1034              34     8246        1594            38\n",
       "8          84               4     1909         214             8\n",
       "9          14               4     1404         475            62\n",
       "10       1001              33     6002        2482            23\n",
       "11         28               1      371         274             7\n",
       "12        826              34     7382        2524           132\n",
       "13        585              20     4865         870            17\n",
       "14       1014              34     7451        1320            44\n",
       "15       1033              34     8269        1631            44\n",
       "16       1024              34     9375        1433            30\n",
       "17        590              20     5158         881            25\n",
       "18       1026              34     9073        1810            47\n",
       "19       1031              34     9558        1466            37\n",
       "20          9               2      746         185            35\n",
       "21       1031              34    10145        1758            45\n",
       "22       1031              34     7951        1887            53\n",
       "23        117               4     2949         333            13\n",
       "24       1012              34     8087        1592            33\n",
       "25       1030              34    15367        3241            89\n",
       "26       1031              34     9289        1676            52\n",
       "27        899              32    10842        2494            64\n",
       "28       1032              34    12572        2683            63\n",
       "29        875              29     7806        1222            41\n",
       "30        778              26     9512        1327            35\n",
       "31       1031              34    14416        3694            84\n",
       "32        183               7     3299         406            18\n",
       "33        201               9     1900         379            10\n",
       "34        457              16     1860         540            16\n",
       "35       1033              34     9108        2411            41\n",
       "36         14               1      258          87             5\n",
       "37       1026              34     8405        1274            37\n",
       "38       1034              34     7356        1750            41\n",
       "39        608              20     4096         813            30\n",
       "40        332              11      817         172            14\n",
       "41       1028              34     7227        1315            36\n",
       "42       1033              34    12034        2695            73\n",
       "43        749              25     6737        1411            51\n",
       "44       1031              34     8894        1021            33\n",
       "45       1029              34     7303        1268            35\n",
       "46       1032              34     9149        1630            44\n",
       "47       1030              34     7912        1581            43\n",
       "48        551              19     4063         939            28\n",
       "49        673              23     3786         782            16\n",
       "50       1031              34     9176        1601            36\n",
       "51        998              33     8739        3091            24\n",
       "52       1031              34     8416        1203            37\n",
       "53       1031              34     7455        1467            31\n",
       "54        826              28    13863        2346            67\n",
       "55        914              30     1985         519           100\n",
       "56       1030              34    11049        1428            31\n",
       "57        972              32    12281        1918            45\n",
       "58        957              32     8393        1451            31\n",
       "59       1032              34     7336        1428            34"
      ]
     },
     "execution_count": 9,
     "metadata": {},
     "output_type": "execute_result"
    }
   ],
   "source": [
    "#EDA on train data\n",
    "sales_train_df.groupby(['shop_id']).nunique()"
   ]
  },
  {
   "cell_type": "code",
   "execution_count": 11,
   "metadata": {
    "execution": {
     "iopub.execute_input": "2022-05-24T15:53:42.794243Z",
     "iopub.status.busy": "2022-05-24T15:53:42.793635Z",
     "iopub.status.idle": "2022-05-24T15:53:43.110256Z",
     "shell.execute_reply": "2022-05-24T15:53:43.109352Z",
     "shell.execute_reply.started": "2022-05-24T15:53:42.794199Z"
    }
   },
   "outputs": [
    {
     "data": {
      "text/plain": [
       "<function matplotlib.pyplot.show(close=None, block=None)>"
      ]
     },
     "execution_count": 11,
     "metadata": {},
     "output_type": "execute_result"
    },
    {
     "data": {
      "image/png": "[encoded data removed]",
      "text/plain": [
       "<Figure size 432x360 with 1 Axes>"
      ]
     },
     "metadata": {
      "needs_background": "light"
     },
     "output_type": "display_data"
    }
   ],
   "source": [
    "#Distribution of shop_id\n",
    "plt.figure(figsize=(6,5))\n",
    "plt.hist(sales_train_df['shop_id'])\n",
    "plt.show"
   ]
  },
  {
   "cell_type": "markdown",
   "metadata": {},
   "source": [
    "There are 59 unique shops"
   ]
  },
  {
   "cell_type": "code",
   "execution_count": 7,
   "metadata": {
    "execution": {
     "iopub.execute_input": "2022-05-24T17:21:50.631637Z",
     "iopub.status.busy": "2022-05-24T17:21:50.630986Z",
     "iopub.status.idle": "2022-05-24T17:21:50.900517Z",
     "shell.execute_reply": "2022-05-24T17:21:50.899578Z",
     "shell.execute_reply.started": "2022-05-24T17:21:50.631591Z"
    }
   },
   "outputs": [
    {
     "data": {
      "text/html": [
       "<div>\n",
       "<style scoped>\n",
       "    .dataframe tbody tr th:only-of-type {\n",
       "        vertical-align: middle;\n",
       "    }\n",
       "\n",
       "    .dataframe tbody tr th {\n",
       "        vertical-align: top;\n",
       "    }\n",
       "\n",
       "    .dataframe thead th {\n",
       "        text-align: right;\n",
       "    }\n",
       "</style>\n",
       "<table border=\"1\" class=\"dataframe\">\n",
       "  <thead>\n",
       "    <tr style=\"text-align: right;\">\n",
       "      <th></th>\n",
       "      <th></th>\n",
       "      <th>item_id</th>\n",
       "      <th>item_price</th>\n",
       "      <th>item_cnt_day</th>\n",
       "    </tr>\n",
       "    <tr>\n",
       "      <th>shop_id</th>\n",
       "      <th>date_block_num</th>\n",
       "      <th></th>\n",
       "      <th></th>\n",
       "      <th></th>\n",
       "    </tr>\n",
       "  </thead>\n",
       "  <tbody>\n",
       "    <tr>\n",
       "      <th rowspan=\"2\" valign=\"top\">0</th>\n",
       "      <th>0</th>\n",
       "      <td>50791835</td>\n",
       "      <td>2.546339e+06</td>\n",
       "      <td>5578.0</td>\n",
       "    </tr>\n",
       "    <tr>\n",
       "      <th>1</th>\n",
       "      <td>54019826</td>\n",
       "      <td>3.007530e+06</td>\n",
       "      <td>6127.0</td>\n",
       "    </tr>\n",
       "    <tr>\n",
       "      <th rowspan=\"2\" valign=\"top\">1</th>\n",
       "      <th>0</th>\n",
       "      <td>28789014</td>\n",
       "      <td>1.378736e+06</td>\n",
       "      <td>2947.0</td>\n",
       "    </tr>\n",
       "    <tr>\n",
       "      <th>1</th>\n",
       "      <td>32161359</td>\n",
       "      <td>1.547425e+06</td>\n",
       "      <td>3364.0</td>\n",
       "    </tr>\n",
       "    <tr>\n",
       "      <th>2</th>\n",
       "      <th>0</th>\n",
       "      <td>10025040</td>\n",
       "      <td>1.028861e+06</td>\n",
       "      <td>1146.0</td>\n",
       "    </tr>\n",
       "    <tr>\n",
       "      <th>...</th>\n",
       "      <th>...</th>\n",
       "      <td>...</td>\n",
       "      <td>...</td>\n",
       "      <td>...</td>\n",
       "    </tr>\n",
       "    <tr>\n",
       "      <th rowspan=\"5\" valign=\"top\">59</th>\n",
       "      <th>29</th>\n",
       "      <td>8448873</td>\n",
       "      <td>7.877389e+05</td>\n",
       "      <td>913.0</td>\n",
       "    </tr>\n",
       "    <tr>\n",
       "      <th>30</th>\n",
       "      <td>9285194</td>\n",
       "      <td>8.085937e+05</td>\n",
       "      <td>992.0</td>\n",
       "    </tr>\n",
       "    <tr>\n",
       "      <th>31</th>\n",
       "      <td>9177292</td>\n",
       "      <td>8.235957e+05</td>\n",
       "      <td>1214.0</td>\n",
       "    </tr>\n",
       "    <tr>\n",
       "      <th>32</th>\n",
       "      <td>7333448</td>\n",
       "      <td>8.829707e+05</td>\n",
       "      <td>914.0</td>\n",
       "    </tr>\n",
       "    <tr>\n",
       "      <th>33</th>\n",
       "      <td>7232848</td>\n",
       "      <td>8.232262e+05</td>\n",
       "      <td>790.0</td>\n",
       "    </tr>\n",
       "  </tbody>\n",
       "</table>\n",
       "<p>1586 rows × 3 columns</p>\n",
       "</div>"
      ],
      "text/plain": [
       "                         item_id    item_price  item_cnt_day\n",
       "shop_id date_block_num                                      \n",
       "0       0               50791835  2.546339e+06        5578.0\n",
       "        1               54019826  3.007530e+06        6127.0\n",
       "1       0               28789014  1.378736e+06        2947.0\n",
       "        1               32161359  1.547425e+06        3364.0\n",
       "2       0               10025040  1.028861e+06        1146.0\n",
       "...                          ...           ...           ...\n",
       "59      29               8448873  7.877389e+05         913.0\n",
       "        30               9285194  8.085937e+05         992.0\n",
       "        31               9177292  8.235957e+05        1214.0\n",
       "        32               7333448  8.829707e+05         914.0\n",
       "        33               7232848  8.232262e+05         790.0\n",
       "\n",
       "[1586 rows x 3 columns]"
      ]
     },
     "execution_count": 7,
     "metadata": {},
     "output_type": "execute_result"
    }
   ],
   "source": [
    "#Getting total sales of a shop for a unique date\n",
    "sales_train_df.groupby(['shop_id','date_block_num']).sum('item_cnt_day')"
   ]
  },
  {
   "cell_type": "code",
   "execution_count": 6,
   "metadata": {
    "execution": {
     "iopub.execute_input": "2022-05-24T17:21:47.466398Z",
     "iopub.status.busy": "2022-05-24T17:21:47.466039Z",
     "iopub.status.idle": "2022-05-24T17:21:48.295854Z",
     "shell.execute_reply": "2022-05-24T17:21:48.294843Z",
     "shell.execute_reply.started": "2022-05-24T17:21:47.466349Z"
    }
   },
   "outputs": [],
   "source": [
    "#Getting total sales of a shop for a unique item and date\n",
    "#Transforming sales training set to required format as test.csv\n",
    "sales_train_df_groupby=sales_train_df.groupby(['shop_id','item_id','date_block_num'])['item_cnt_day'].sum().reset_index()"
   ]
  },
  {
   "cell_type": "code",
   "execution_count": 14,
   "metadata": {
    "execution": {
     "iopub.execute_input": "2022-05-24T15:53:55.874871Z",
     "iopub.status.busy": "2022-05-24T15:53:55.874579Z",
     "iopub.status.idle": "2022-05-24T15:53:55.892830Z",
     "shell.execute_reply": "2022-05-24T15:53:55.890468Z",
     "shell.execute_reply.started": "2022-05-24T15:53:55.874841Z"
    }
   },
   "outputs": [
    {
     "data": {
      "text/html": [
       "<div>\n",
       "<style scoped>\n",
       "    .dataframe tbody tr th:only-of-type {\n",
       "        vertical-align: middle;\n",
       "    }\n",
       "\n",
       "    .dataframe tbody tr th {\n",
       "        vertical-align: top;\n",
       "    }\n",
       "\n",
       "    .dataframe thead th {\n",
       "        text-align: right;\n",
       "    }\n",
       "</style>\n",
       "<table border=\"1\" class=\"dataframe\">\n",
       "  <thead>\n",
       "    <tr style=\"text-align: right;\">\n",
       "      <th></th>\n",
       "      <th>shop_id</th>\n",
       "      <th>item_id</th>\n",
       "      <th>date_block_num</th>\n",
       "      <th>item_cnt_day</th>\n",
       "    </tr>\n",
       "  </thead>\n",
       "  <tbody>\n",
       "    <tr>\n",
       "      <th>0</th>\n",
       "      <td>0</td>\n",
       "      <td>30</td>\n",
       "      <td>1</td>\n",
       "      <td>31.0</td>\n",
       "    </tr>\n",
       "    <tr>\n",
       "      <th>1</th>\n",
       "      <td>0</td>\n",
       "      <td>31</td>\n",
       "      <td>1</td>\n",
       "      <td>11.0</td>\n",
       "    </tr>\n",
       "    <tr>\n",
       "      <th>2</th>\n",
       "      <td>0</td>\n",
       "      <td>32</td>\n",
       "      <td>0</td>\n",
       "      <td>6.0</td>\n",
       "    </tr>\n",
       "    <tr>\n",
       "      <th>3</th>\n",
       "      <td>0</td>\n",
       "      <td>32</td>\n",
       "      <td>1</td>\n",
       "      <td>10.0</td>\n",
       "    </tr>\n",
       "    <tr>\n",
       "      <th>4</th>\n",
       "      <td>0</td>\n",
       "      <td>33</td>\n",
       "      <td>0</td>\n",
       "      <td>3.0</td>\n",
       "    </tr>\n",
       "    <tr>\n",
       "      <th>...</th>\n",
       "      <td>...</td>\n",
       "      <td>...</td>\n",
       "      <td>...</td>\n",
       "      <td>...</td>\n",
       "    </tr>\n",
       "    <tr>\n",
       "      <th>1609119</th>\n",
       "      <td>59</td>\n",
       "      <td>22164</td>\n",
       "      <td>27</td>\n",
       "      <td>2.0</td>\n",
       "    </tr>\n",
       "    <tr>\n",
       "      <th>1609120</th>\n",
       "      <td>59</td>\n",
       "      <td>22164</td>\n",
       "      <td>30</td>\n",
       "      <td>1.0</td>\n",
       "    </tr>\n",
       "    <tr>\n",
       "      <th>1609121</th>\n",
       "      <td>59</td>\n",
       "      <td>22167</td>\n",
       "      <td>9</td>\n",
       "      <td>1.0</td>\n",
       "    </tr>\n",
       "    <tr>\n",
       "      <th>1609122</th>\n",
       "      <td>59</td>\n",
       "      <td>22167</td>\n",
       "      <td>11</td>\n",
       "      <td>2.0</td>\n",
       "    </tr>\n",
       "    <tr>\n",
       "      <th>1609123</th>\n",
       "      <td>59</td>\n",
       "      <td>22167</td>\n",
       "      <td>17</td>\n",
       "      <td>1.0</td>\n",
       "    </tr>\n",
       "  </tbody>\n",
       "</table>\n",
       "<p>1609124 rows × 4 columns</p>\n",
       "</div>"
      ],
      "text/plain": [
       "         shop_id  item_id  date_block_num  item_cnt_day\n",
       "0              0       30               1          31.0\n",
       "1              0       31               1          11.0\n",
       "2              0       32               0           6.0\n",
       "3              0       32               1          10.0\n",
       "4              0       33               0           3.0\n",
       "...          ...      ...             ...           ...\n",
       "1609119       59    22164              27           2.0\n",
       "1609120       59    22164              30           1.0\n",
       "1609121       59    22167               9           1.0\n",
       "1609122       59    22167              11           2.0\n",
       "1609123       59    22167              17           1.0\n",
       "\n",
       "[1609124 rows x 4 columns]"
      ]
     },
     "execution_count": 14,
     "metadata": {},
     "output_type": "execute_result"
    }
   ],
   "source": [
    "sales_train_df_groupby"
   ]
  },
  {
   "cell_type": "markdown",
   "metadata": {},
   "source": [
    "### Findings of EDA:\n",
    "\n",
    "1. There are 21807 unique items\n",
    "2. There are 59 unique shops\n",
    "3. No significant correlation between any 2 columns! \n",
    "4. Explored test data format and transformed the train data in the same way to get total sales of a shop for a unique item and date\n"
   ]
  },
  {
   "cell_type": "markdown",
   "metadata": {},
   "source": [
    "1. **Inputs of Test.csv:shop_id,item_id** . \n",
    "2. **Output of Test.csv: item_cnt**. \n",
    "\n",
    "We'll use \"sales_train_df_groupby\" for training the model. We shall split this into train and validation set to test the model accuracy. Right now, i'm thinking of using a multi-linear or decision tree based regressor. We shall tets the model RMSE and the aim is to get score as close to 1.00 .  "
   ]
  },
  {
   "cell_type": "markdown",
   "metadata": {},
   "source": [
    "## Linear Regression for Sales Prediction"
   ]
  },
  {
   "cell_type": "code",
   "execution_count": 16,
   "metadata": {
    "execution": {
     "iopub.execute_input": "2022-05-24T15:54:04.155951Z",
     "iopub.status.busy": "2022-05-24T15:54:04.155642Z",
     "iopub.status.idle": "2022-05-24T15:54:05.217737Z",
     "shell.execute_reply": "2022-05-24T15:54:05.216710Z",
     "shell.execute_reply.started": "2022-05-24T15:54:04.155921Z"
    }
   },
   "outputs": [],
   "source": [
    "#importing needed packages\n",
    "import matplotlib.pyplot as plt  # To visualize\n",
    "from sklearn.linear_model import LinearRegression\n",
    "from sklearn.model_selection import train_test_split \n",
    "from sklearn import metrics"
   ]
  },
  {
   "cell_type": "code",
   "execution_count": 15,
   "metadata": {
    "execution": {
     "iopub.execute_input": "2022-05-24T15:54:02.164300Z",
     "iopub.status.busy": "2022-05-24T15:54:02.163214Z",
     "iopub.status.idle": "2022-05-24T15:54:02.200552Z",
     "shell.execute_reply": "2022-05-24T15:54:02.199530Z",
     "shell.execute_reply.started": "2022-05-24T15:54:02.164249Z"
    }
   },
   "outputs": [],
   "source": [
    "#Getting X and Y variables\n",
    "X = sales_train_df_groupby.drop(columns=['item_cnt_day','date_block_num'])#['date_block_num','shop_id']  # values converts it into a numpy array\n",
    "Y = sales_train_df_groupby['item_cnt_day']  # -1 means that calculate the dimension of rows, but have 1 column"
   ]
  },
  {
   "cell_type": "code",
   "execution_count": 17,
   "metadata": {
    "execution": {
     "iopub.execute_input": "2022-05-24T15:54:06.994630Z",
     "iopub.status.busy": "2022-05-24T15:54:06.994347Z",
     "iopub.status.idle": "2022-05-24T15:54:07.157186Z",
     "shell.execute_reply": "2022-05-24T15:54:07.156098Z",
     "shell.execute_reply.started": "2022-05-24T15:54:06.994601Z"
    }
   },
   "outputs": [
    {
     "data": {
      "text/html": [
       "<div>\n",
       "<style scoped>\n",
       "    .dataframe tbody tr th:only-of-type {\n",
       "        vertical-align: middle;\n",
       "    }\n",
       "\n",
       "    .dataframe tbody tr th {\n",
       "        vertical-align: top;\n",
       "    }\n",
       "\n",
       "    .dataframe thead th {\n",
       "        text-align: right;\n",
       "    }\n",
       "</style>\n",
       "<table border=\"1\" class=\"dataframe\">\n",
       "  <thead>\n",
       "    <tr style=\"text-align: right;\">\n",
       "      <th></th>\n",
       "      <th>shop_id</th>\n",
       "      <th>item_id</th>\n",
       "    </tr>\n",
       "  </thead>\n",
       "  <tbody>\n",
       "    <tr>\n",
       "      <th>358394</th>\n",
       "      <td>19</td>\n",
       "      <td>3619</td>\n",
       "    </tr>\n",
       "    <tr>\n",
       "      <th>308964</th>\n",
       "      <td>17</td>\n",
       "      <td>3554</td>\n",
       "    </tr>\n",
       "  </tbody>\n",
       "</table>\n",
       "</div>"
      ],
      "text/plain": [
       "        shop_id  item_id\n",
       "358394       19     3619\n",
       "308964       17     3554"
      ]
     },
     "execution_count": 17,
     "metadata": {},
     "output_type": "execute_result"
    }
   ],
   "source": [
    "X_train, X_test, y_train, y_test = train_test_split(X, Y, test_size=0.2, random_state=0)\n",
    "X_train.head(2)"
   ]
  },
  {
   "cell_type": "code",
   "execution_count": 18,
   "metadata": {
    "execution": {
     "iopub.execute_input": "2022-05-24T15:54:10.842361Z",
     "iopub.status.busy": "2022-05-24T15:54:10.841998Z",
     "iopub.status.idle": "2022-05-24T15:54:10.951708Z",
     "shell.execute_reply": "2022-05-24T15:54:10.950341Z",
     "shell.execute_reply.started": "2022-05-24T15:54:10.842328Z"
    }
   },
   "outputs": [],
   "source": [
    "#Training and predicting for validation dataset\n",
    "linear_regressor = LinearRegression()  # create object for the class\n",
    "linear_regressor.fit(X_train, y_train)  # perform linear regression\n",
    "Y_pred = linear_regressor.predict(X_test)  # make predictions"
   ]
  },
  {
   "cell_type": "code",
   "execution_count": 19,
   "metadata": {
    "execution": {
     "iopub.execute_input": "2022-05-24T15:54:12.861034Z",
     "iopub.status.busy": "2022-05-24T15:54:12.860743Z",
     "iopub.status.idle": "2022-05-24T15:54:12.877354Z",
     "shell.execute_reply": "2022-05-24T15:54:12.876287Z",
     "shell.execute_reply.started": "2022-05-24T15:54:12.861004Z"
    }
   },
   "outputs": [
    {
     "name": "stdout",
     "output_type": "stream",
     "text": [
      "Mean Absolute Error: 1.738898169450526\n",
      "Mean Squared Error: 56.71364315727616\n",
      "Root Mean Squared Error: 7.530846111644837\n"
     ]
    }
   ],
   "source": [
    "print('Mean Absolute Error:', metrics.mean_absolute_error(y_test, Y_pred))  \n",
    "print('Mean Squared Error:', metrics.mean_squared_error(y_test, Y_pred))  \n",
    "print('Root Mean Squared Error:', np.sqrt(metrics.mean_squared_error(y_test, Y_pred)))"
   ]
  },
  {
   "cell_type": "markdown",
   "metadata": {},
   "source": [
    "RMSE is 7.5 which means model is having much deviation from the actual sale value. So, let's try Random forest regressor and xgboost techniques to predict sales value."
   ]
  },
  {
   "cell_type": "markdown",
   "metadata": {},
   "source": [
    "## **XGBoost Model**"
   ]
  },
  {
   "cell_type": "code",
   "execution_count": 20,
   "metadata": {
    "execution": {
     "iopub.execute_input": "2022-05-24T15:54:16.576951Z",
     "iopub.status.busy": "2022-05-24T15:54:16.576494Z",
     "iopub.status.idle": "2022-05-24T15:54:16.593598Z",
     "shell.execute_reply": "2022-05-24T15:54:16.592741Z",
     "shell.execute_reply.started": "2022-05-24T15:54:16.576916Z"
    }
   },
   "outputs": [],
   "source": [
    "item_cat_joined_df=items_df.merge(item_categories_df, on='item_category_id')"
   ]
  },
  {
   "cell_type": "code",
   "execution_count": 21,
   "metadata": {
    "execution": {
     "iopub.execute_input": "2022-05-24T15:54:18.367365Z",
     "iopub.status.busy": "2022-05-24T15:54:18.366429Z",
     "iopub.status.idle": "2022-05-24T15:54:18.709214Z",
     "shell.execute_reply": "2022-05-24T15:54:18.708179Z",
     "shell.execute_reply.started": "2022-05-24T15:54:18.367293Z"
    }
   },
   "outputs": [],
   "source": [
    "sales_train_df_groupby_cat_join=sales_train_df_groupby.merge(item_cat_joined_df, on='item_id')"
   ]
  },
  {
   "cell_type": "code",
   "execution_count": 22,
   "metadata": {
    "execution": {
     "iopub.execute_input": "2022-05-24T15:54:20.766729Z",
     "iopub.status.busy": "2022-05-24T15:54:20.766458Z",
     "iopub.status.idle": "2022-05-24T15:54:20.786542Z",
     "shell.execute_reply": "2022-05-24T15:54:20.785280Z",
     "shell.execute_reply.started": "2022-05-24T15:54:20.766700Z"
    }
   },
   "outputs": [
    {
     "data": {
      "text/html": [
       "<div>\n",
       "<style scoped>\n",
       "    .dataframe tbody tr th:only-of-type {\n",
       "        vertical-align: middle;\n",
       "    }\n",
       "\n",
       "    .dataframe tbody tr th {\n",
       "        vertical-align: top;\n",
       "    }\n",
       "\n",
       "    .dataframe thead th {\n",
       "        text-align: right;\n",
       "    }\n",
       "</style>\n",
       "<table border=\"1\" class=\"dataframe\">\n",
       "  <thead>\n",
       "    <tr style=\"text-align: right;\">\n",
       "      <th></th>\n",
       "      <th>shop_id</th>\n",
       "      <th>item_id</th>\n",
       "      <th>date_block_num</th>\n",
       "      <th>item_cnt_day</th>\n",
       "      <th>item_name</th>\n",
       "      <th>item_category_id</th>\n",
       "      <th>item_category_name</th>\n",
       "    </tr>\n",
       "  </thead>\n",
       "  <tbody>\n",
       "    <tr>\n",
       "      <th>0</th>\n",
       "      <td>0</td>\n",
       "      <td>30</td>\n",
       "      <td>1</td>\n",
       "      <td>31.0</td>\n",
       "      <td>007: КООРДИНАТЫ «СКАЙФОЛЛ»</td>\n",
       "      <td>40</td>\n",
       "      <td>Кино - DVD</td>\n",
       "    </tr>\n",
       "    <tr>\n",
       "      <th>1</th>\n",
       "      <td>1</td>\n",
       "      <td>30</td>\n",
       "      <td>1</td>\n",
       "      <td>10.0</td>\n",
       "      <td>007: КООРДИНАТЫ «СКАЙФОЛЛ»</td>\n",
       "      <td>40</td>\n",
       "      <td>Кино - DVD</td>\n",
       "    </tr>\n",
       "    <tr>\n",
       "      <th>2</th>\n",
       "      <td>2</td>\n",
       "      <td>30</td>\n",
       "      <td>2</td>\n",
       "      <td>1.0</td>\n",
       "      <td>007: КООРДИНАТЫ «СКАЙФОЛЛ»</td>\n",
       "      <td>40</td>\n",
       "      <td>Кино - DVD</td>\n",
       "    </tr>\n",
       "    <tr>\n",
       "      <th>3</th>\n",
       "      <td>2</td>\n",
       "      <td>30</td>\n",
       "      <td>5</td>\n",
       "      <td>1.0</td>\n",
       "      <td>007: КООРДИНАТЫ «СКАЙФОЛЛ»</td>\n",
       "      <td>40</td>\n",
       "      <td>Кино - DVD</td>\n",
       "    </tr>\n",
       "    <tr>\n",
       "      <th>4</th>\n",
       "      <td>2</td>\n",
       "      <td>30</td>\n",
       "      <td>15</td>\n",
       "      <td>1.0</td>\n",
       "      <td>007: КООРДИНАТЫ «СКАЙФОЛЛ»</td>\n",
       "      <td>40</td>\n",
       "      <td>Кино - DVD</td>\n",
       "    </tr>\n",
       "    <tr>\n",
       "      <th>...</th>\n",
       "      <td>...</td>\n",
       "      <td>...</td>\n",
       "      <td>...</td>\n",
       "      <td>...</td>\n",
       "      <td>...</td>\n",
       "      <td>...</td>\n",
       "      <td>...</td>\n",
       "    </tr>\n",
       "    <tr>\n",
       "      <th>1609119</th>\n",
       "      <td>59</td>\n",
       "      <td>9760</td>\n",
       "      <td>12</td>\n",
       "      <td>1.0</td>\n",
       "      <td>ВЕДЬМА (BD)</td>\n",
       "      <td>37</td>\n",
       "      <td>Кино - Blu-Ray</td>\n",
       "    </tr>\n",
       "    <tr>\n",
       "      <th>1609120</th>\n",
       "      <td>59</td>\n",
       "      <td>12846</td>\n",
       "      <td>10</td>\n",
       "      <td>1.0</td>\n",
       "      <td>КОШКИ МЫШКИ  (BD)</td>\n",
       "      <td>37</td>\n",
       "      <td>Кино - Blu-Ray</td>\n",
       "    </tr>\n",
       "    <tr>\n",
       "      <th>1609121</th>\n",
       "      <td>59</td>\n",
       "      <td>16270</td>\n",
       "      <td>6</td>\n",
       "      <td>1.0</td>\n",
       "      <td>Наш Сад, UPG с версии 6.0 до версии 10.0</td>\n",
       "      <td>75</td>\n",
       "      <td>Программы - Для дома и офиса</td>\n",
       "    </tr>\n",
       "    <tr>\n",
       "      <th>1609122</th>\n",
       "      <td>59</td>\n",
       "      <td>17732</td>\n",
       "      <td>9</td>\n",
       "      <td>1.0</td>\n",
       "      <td>Принц Персии. Prince of Persia (PC-DVD) (DVD-box)</td>\n",
       "      <td>28</td>\n",
       "      <td>Игры PC - Дополнительные издания</td>\n",
       "    </tr>\n",
       "    <tr>\n",
       "      <th>1609123</th>\n",
       "      <td>59</td>\n",
       "      <td>18018</td>\n",
       "      <td>0</td>\n",
       "      <td>1.0</td>\n",
       "      <td>Ранетки (mp3-CD) (Jewel)</td>\n",
       "      <td>57</td>\n",
       "      <td>Музыка - MP3</td>\n",
       "    </tr>\n",
       "  </tbody>\n",
       "</table>\n",
       "<p>1609124 rows × 7 columns</p>\n",
       "</div>"
      ],
      "text/plain": [
       "         shop_id  item_id  date_block_num  item_cnt_day  \\\n",
       "0              0       30               1          31.0   \n",
       "1              1       30               1          10.0   \n",
       "2              2       30               2           1.0   \n",
       "3              2       30               5           1.0   \n",
       "4              2       30              15           1.0   \n",
       "...          ...      ...             ...           ...   \n",
       "1609119       59     9760              12           1.0   \n",
       "1609120       59    12846              10           1.0   \n",
       "1609121       59    16270               6           1.0   \n",
       "1609122       59    17732               9           1.0   \n",
       "1609123       59    18018               0           1.0   \n",
       "\n",
       "                                                 item_name  item_category_id  \\\n",
       "0                               007: КООРДИНАТЫ «СКАЙФОЛЛ»                40   \n",
       "1                               007: КООРДИНАТЫ «СКАЙФОЛЛ»                40   \n",
       "2                               007: КООРДИНАТЫ «СКАЙФОЛЛ»                40   \n",
       "3                               007: КООРДИНАТЫ «СКАЙФОЛЛ»                40   \n",
       "4                               007: КООРДИНАТЫ «СКАЙФОЛЛ»                40   \n",
       "...                                                    ...               ...   \n",
       "1609119                                        ВЕДЬМА (BD)                37   \n",
       "1609120                                  КОШКИ МЫШКИ  (BD)                37   \n",
       "1609121           Наш Сад, UPG с версии 6.0 до версии 10.0                75   \n",
       "1609122  Принц Персии. Prince of Persia (PC-DVD) (DVD-box)                28   \n",
       "1609123                           Ранетки (mp3-CD) (Jewel)                57   \n",
       "\n",
       "                       item_category_name  \n",
       "0                              Кино - DVD  \n",
       "1                              Кино - DVD  \n",
       "2                              Кино - DVD  \n",
       "3                              Кино - DVD  \n",
       "4                              Кино - DVD  \n",
       "...                                   ...  \n",
       "1609119                    Кино - Blu-Ray  \n",
       "1609120                    Кино - Blu-Ray  \n",
       "1609121      Программы - Для дома и офиса  \n",
       "1609122  Игры PC - Дополнительные издания  \n",
       "1609123                      Музыка - MP3  \n",
       "\n",
       "[1609124 rows x 7 columns]"
      ]
     },
     "execution_count": 22,
     "metadata": {},
     "output_type": "execute_result"
    }
   ],
   "source": [
    "sales_train_df_groupby_cat_join"
   ]
  },
  {
   "cell_type": "code",
   "execution_count": 23,
   "metadata": {
    "execution": {
     "iopub.execute_input": "2022-05-24T15:54:23.904884Z",
     "iopub.status.busy": "2022-05-24T15:54:23.904591Z",
     "iopub.status.idle": "2022-05-24T15:54:24.029267Z",
     "shell.execute_reply": "2022-05-24T15:54:24.028246Z",
     "shell.execute_reply.started": "2022-05-24T15:54:23.904853Z"
    }
   },
   "outputs": [
    {
     "data": {
      "text/html": [
       "<div>\n",
       "<style scoped>\n",
       "    .dataframe tbody tr th:only-of-type {\n",
       "        vertical-align: middle;\n",
       "    }\n",
       "\n",
       "    .dataframe tbody tr th {\n",
       "        vertical-align: top;\n",
       "    }\n",
       "\n",
       "    .dataframe thead th {\n",
       "        text-align: right;\n",
       "    }\n",
       "</style>\n",
       "<table border=\"1\" class=\"dataframe\">\n",
       "  <thead>\n",
       "    <tr style=\"text-align: right;\">\n",
       "      <th></th>\n",
       "      <th>date_block_num</th>\n",
       "      <th>shop_id</th>\n",
       "      <th>item_id</th>\n",
       "      <th>item_category_id</th>\n",
       "    </tr>\n",
       "  </thead>\n",
       "  <tbody>\n",
       "    <tr>\n",
       "      <th>0</th>\n",
       "      <td>1</td>\n",
       "      <td>0</td>\n",
       "      <td>30</td>\n",
       "      <td>40</td>\n",
       "    </tr>\n",
       "    <tr>\n",
       "      <th>1</th>\n",
       "      <td>1</td>\n",
       "      <td>1</td>\n",
       "      <td>30</td>\n",
       "      <td>40</td>\n",
       "    </tr>\n",
       "    <tr>\n",
       "      <th>2</th>\n",
       "      <td>2</td>\n",
       "      <td>2</td>\n",
       "      <td>30</td>\n",
       "      <td>40</td>\n",
       "    </tr>\n",
       "    <tr>\n",
       "      <th>3</th>\n",
       "      <td>5</td>\n",
       "      <td>2</td>\n",
       "      <td>30</td>\n",
       "      <td>40</td>\n",
       "    </tr>\n",
       "    <tr>\n",
       "      <th>4</th>\n",
       "      <td>15</td>\n",
       "      <td>2</td>\n",
       "      <td>30</td>\n",
       "      <td>40</td>\n",
       "    </tr>\n",
       "    <tr>\n",
       "      <th>...</th>\n",
       "      <td>...</td>\n",
       "      <td>...</td>\n",
       "      <td>...</td>\n",
       "      <td>...</td>\n",
       "    </tr>\n",
       "    <tr>\n",
       "      <th>1609119</th>\n",
       "      <td>12</td>\n",
       "      <td>59</td>\n",
       "      <td>9760</td>\n",
       "      <td>37</td>\n",
       "    </tr>\n",
       "    <tr>\n",
       "      <th>1609120</th>\n",
       "      <td>10</td>\n",
       "      <td>59</td>\n",
       "      <td>12846</td>\n",
       "      <td>37</td>\n",
       "    </tr>\n",
       "    <tr>\n",
       "      <th>1609121</th>\n",
       "      <td>6</td>\n",
       "      <td>59</td>\n",
       "      <td>16270</td>\n",
       "      <td>75</td>\n",
       "    </tr>\n",
       "    <tr>\n",
       "      <th>1609122</th>\n",
       "      <td>9</td>\n",
       "      <td>59</td>\n",
       "      <td>17732</td>\n",
       "      <td>28</td>\n",
       "    </tr>\n",
       "    <tr>\n",
       "      <th>1609123</th>\n",
       "      <td>0</td>\n",
       "      <td>59</td>\n",
       "      <td>18018</td>\n",
       "      <td>57</td>\n",
       "    </tr>\n",
       "  </tbody>\n",
       "</table>\n",
       "<p>1609124 rows × 4 columns</p>\n",
       "</div>"
      ],
      "text/plain": [
       "         date_block_num  shop_id  item_id  item_category_id\n",
       "0                     1        0       30                40\n",
       "1                     1        1       30                40\n",
       "2                     2        2       30                40\n",
       "3                     5        2       30                40\n",
       "4                    15        2       30                40\n",
       "...                 ...      ...      ...               ...\n",
       "1609119              12       59     9760                37\n",
       "1609120              10       59    12846                37\n",
       "1609121               6       59    16270                75\n",
       "1609122               9       59    17732                28\n",
       "1609123               0       59    18018                57\n",
       "\n",
       "[1609124 rows x 4 columns]"
      ]
     },
     "execution_count": 23,
     "metadata": {},
     "output_type": "execute_result"
    }
   ],
   "source": [
    "Xgboost_X_train=sales_train_df_groupby_cat_join[['date_block_num','shop_id','item_id','item_category_id']]\n",
    "Xgboost_X_train"
   ]
  },
  {
   "cell_type": "code",
   "execution_count": 24,
   "metadata": {
    "execution": {
     "iopub.execute_input": "2022-05-24T15:54:26.769474Z",
     "iopub.status.busy": "2022-05-24T15:54:26.769121Z",
     "iopub.status.idle": "2022-05-24T15:54:26.788908Z",
     "shell.execute_reply": "2022-05-24T15:54:26.787916Z",
     "shell.execute_reply.started": "2022-05-24T15:54:26.769442Z"
    }
   },
   "outputs": [
    {
     "data": {
      "text/html": [
       "<div>\n",
       "<style scoped>\n",
       "    .dataframe tbody tr th:only-of-type {\n",
       "        vertical-align: middle;\n",
       "    }\n",
       "\n",
       "    .dataframe tbody tr th {\n",
       "        vertical-align: top;\n",
       "    }\n",
       "\n",
       "    .dataframe thead th {\n",
       "        text-align: right;\n",
       "    }\n",
       "</style>\n",
       "<table border=\"1\" class=\"dataframe\">\n",
       "  <thead>\n",
       "    <tr style=\"text-align: right;\">\n",
       "      <th></th>\n",
       "      <th>item_cnt_day</th>\n",
       "    </tr>\n",
       "  </thead>\n",
       "  <tbody>\n",
       "    <tr>\n",
       "      <th>0</th>\n",
       "      <td>31.0</td>\n",
       "    </tr>\n",
       "    <tr>\n",
       "      <th>1</th>\n",
       "      <td>10.0</td>\n",
       "    </tr>\n",
       "    <tr>\n",
       "      <th>2</th>\n",
       "      <td>1.0</td>\n",
       "    </tr>\n",
       "    <tr>\n",
       "      <th>3</th>\n",
       "      <td>1.0</td>\n",
       "    </tr>\n",
       "    <tr>\n",
       "      <th>4</th>\n",
       "      <td>1.0</td>\n",
       "    </tr>\n",
       "    <tr>\n",
       "      <th>...</th>\n",
       "      <td>...</td>\n",
       "    </tr>\n",
       "    <tr>\n",
       "      <th>1609119</th>\n",
       "      <td>1.0</td>\n",
       "    </tr>\n",
       "    <tr>\n",
       "      <th>1609120</th>\n",
       "      <td>1.0</td>\n",
       "    </tr>\n",
       "    <tr>\n",
       "      <th>1609121</th>\n",
       "      <td>1.0</td>\n",
       "    </tr>\n",
       "    <tr>\n",
       "      <th>1609122</th>\n",
       "      <td>1.0</td>\n",
       "    </tr>\n",
       "    <tr>\n",
       "      <th>1609123</th>\n",
       "      <td>1.0</td>\n",
       "    </tr>\n",
       "  </tbody>\n",
       "</table>\n",
       "<p>1609124 rows × 1 columns</p>\n",
       "</div>"
      ],
      "text/plain": [
       "         item_cnt_day\n",
       "0                31.0\n",
       "1                10.0\n",
       "2                 1.0\n",
       "3                 1.0\n",
       "4                 1.0\n",
       "...               ...\n",
       "1609119           1.0\n",
       "1609120           1.0\n",
       "1609121           1.0\n",
       "1609122           1.0\n",
       "1609123           1.0\n",
       "\n",
       "[1609124 rows x 1 columns]"
      ]
     },
     "execution_count": 24,
     "metadata": {},
     "output_type": "execute_result"
    }
   ],
   "source": [
    "Xgboost_Y_train=sales_train_df_groupby_cat_join[['item_cnt_day']]\n",
    "Xgboost_Y_train"
   ]
  },
  {
   "cell_type": "code",
   "execution_count": 25,
   "metadata": {
    "execution": {
     "iopub.execute_input": "2022-05-24T15:54:34.463750Z",
     "iopub.status.busy": "2022-05-24T15:54:34.463367Z",
     "iopub.status.idle": "2022-05-24T15:54:34.868944Z",
     "shell.execute_reply": "2022-05-24T15:54:34.868099Z",
     "shell.execute_reply.started": "2022-05-24T15:54:34.463708Z"
    }
   },
   "outputs": [],
   "source": [
    "import xgboost as xgb\n",
    "from sklearn.metrics import mean_squared_error\n",
    "from sklearn.model_selection import train_test_split\n",
    "\n",
    "X_train_xgb, X_test_xgb, y_train_xgb, y_test_xgb = train_test_split(Xgboost_X_train, Xgboost_Y_train, test_size=0.2, random_state=123)"
   ]
  },
  {
   "cell_type": "code",
   "execution_count": 26,
   "metadata": {
    "execution": {
     "iopub.execute_input": "2022-05-24T15:54:36.514542Z",
     "iopub.status.busy": "2022-05-24T15:54:36.513808Z",
     "iopub.status.idle": "2022-05-24T15:55:33.548355Z",
     "shell.execute_reply": "2022-05-24T15:55:33.547292Z",
     "shell.execute_reply.started": "2022-05-24T15:54:36.514499Z"
    }
   },
   "outputs": [
    {
     "name": "stdout",
     "output_type": "stream",
     "text": [
      "[15:54:36] WARNING: ../src/objective/regression_obj.cu:171: reg:linear is now deprecated in favor of reg:squarederror.\n"
     ]
    },
    {
     "data": {
      "text/plain": [
       "XGBRegressor(base_score=0.5, booster='gbtree', colsample_bylevel=1,\n",
       "             colsample_bynode=1, colsample_bytree=1, gamma=0, gpu_id=-1,\n",
       "             importance_type='gain', interaction_constraints='',\n",
       "             learning_rate=0.300000012, max_delta_step=0, max_depth=10,\n",
       "             min_child_weight=1, missing=nan, monotone_constraints='()',\n",
       "             n_estimators=100, n_jobs=4, num_parallel_tree=1,\n",
       "             objective='reg:linear', random_state=0, reg_alpha=0, reg_lambda=1,\n",
       "             scale_pos_weight=1, subsample=1, tree_method='exact',\n",
       "             validate_parameters=1, verbosity=None)"
      ]
     },
     "execution_count": 26,
     "metadata": {},
     "output_type": "execute_result"
    }
   ],
   "source": [
    "xg_reg = xgb.XGBRegressor(objective ='reg:linear',max_depth = 10,  n_estimators = 100)\n",
    "xg_reg.fit(X_train_xgb,y_train_xgb)"
   ]
  },
  {
   "cell_type": "code",
   "execution_count": 29,
   "metadata": {
    "execution": {
     "iopub.execute_input": "2022-05-24T15:55:34.900076Z",
     "iopub.status.busy": "2022-05-24T15:55:34.899775Z",
     "iopub.status.idle": "2022-05-24T15:55:35.574195Z",
     "shell.execute_reply": "2022-05-24T15:55:35.573391Z",
     "shell.execute_reply.started": "2022-05-24T15:55:34.900031Z"
    }
   },
   "outputs": [],
   "source": [
    "preds = xg_reg.predict(X_test_xgb)"
   ]
  },
  {
   "cell_type": "code",
   "execution_count": 30,
   "metadata": {
    "execution": {
     "iopub.execute_input": "2022-05-24T15:55:35.576593Z",
     "iopub.status.busy": "2022-05-24T15:55:35.576272Z",
     "iopub.status.idle": "2022-05-24T15:55:35.586574Z",
     "shell.execute_reply": "2022-05-24T15:55:35.585559Z",
     "shell.execute_reply.started": "2022-05-24T15:55:35.576553Z"
    }
   },
   "outputs": [
    {
     "name": "stdout",
     "output_type": "stream",
     "text": [
      "RMSE: 4.868810\n"
     ]
    }
   ],
   "source": [
    "rmse = np.sqrt(mean_squared_error(y_test_xgb, preds))\n",
    "print(\"RMSE: %f\" % (rmse))"
   ]
  },
  {
   "cell_type": "markdown",
   "metadata": {},
   "source": [
    "By using XGBoost, Now RMSE has further reduced to 4.68 from Linear regression's 7.65. So, XGBoost is much more efficient predicting sales price compared to Linear regression.\n",
    "\n",
    "Now let's try using Random Forest regressor,Deep learning methods and Time series for much better accuracy."
   ]
  },
  {
   "cell_type": "markdown",
   "metadata": {},
   "source": [
    "## **Random Forest Regressor to predict sales**"
   ]
  },
  {
   "cell_type": "code",
   "execution_count": 31,
   "metadata": {
    "execution": {
     "iopub.execute_input": "2022-05-24T15:55:35.587906Z",
     "iopub.status.busy": "2022-05-24T15:55:35.587694Z",
     "iopub.status.idle": "2022-05-24T16:02:33.900725Z",
     "shell.execute_reply": "2022-05-24T16:02:33.899513Z",
     "shell.execute_reply.started": "2022-05-24T15:55:35.587880Z"
    }
   },
   "outputs": [
    {
     "name": "stderr",
     "output_type": "stream",
     "text": [
      "/opt/conda/lib/python3.7/site-packages/ipykernel_launcher.py:5: DataConversionWarning: A column-vector y was passed when a 1d array was expected. Please change the shape of y to (n_samples,), for example using ravel().\n",
      "  \"\"\"\n"
     ]
    },
    {
     "data": {
      "text/plain": [
       "RandomForestRegressor()"
      ]
     },
     "execution_count": 31,
     "metadata": {},
     "output_type": "execute_result"
    }
   ],
   "source": [
    "#Random forest regressor model building\n",
    "from sklearn.ensemble import RandomForestRegressor\n",
    "X_train_rf, X_test_rf, y_train_rf, y_test_rf = train_test_split(Xgboost_X_train, Xgboost_Y_train, test_size=0.2, random_state=123)\n",
    "RF_model = RandomForestRegressor()\n",
    "RF_model.fit(X_train_rf, y_train_rf)"
   ]
  },
  {
   "cell_type": "code",
   "execution_count": 32,
   "metadata": {
    "execution": {
     "iopub.execute_input": "2022-05-24T16:02:33.902510Z",
     "iopub.status.busy": "2022-05-24T16:02:33.902212Z",
     "iopub.status.idle": "2022-05-24T16:02:56.471477Z",
     "shell.execute_reply": "2022-05-24T16:02:56.470546Z",
     "shell.execute_reply.started": "2022-05-24T16:02:33.902479Z"
    }
   },
   "outputs": [],
   "source": [
    "RF_pred=RF_model.predict(X_test_rf)"
   ]
  },
  {
   "cell_type": "code",
   "execution_count": 33,
   "metadata": {
    "execution": {
     "iopub.execute_input": "2022-05-24T16:02:56.472843Z",
     "iopub.status.busy": "2022-05-24T16:02:56.472622Z",
     "iopub.status.idle": "2022-05-24T16:02:56.481438Z",
     "shell.execute_reply": "2022-05-24T16:02:56.480542Z",
     "shell.execute_reply.started": "2022-05-24T16:02:56.472816Z"
    }
   },
   "outputs": [
    {
     "name": "stdout",
     "output_type": "stream",
     "text": [
      "RMSE: 4.868810\n"
     ]
    }
   ],
   "source": [
    "rmse_rf = np.sqrt(mean_squared_error(y_test_rf, RF_pred))\n",
    "print(\"RMSE: %f\" % (rmse))"
   ]
  },
  {
   "cell_type": "markdown",
   "metadata": {},
   "source": [
    "Random forest and XGBoost are almost having same error predicting."
   ]
  },
  {
   "cell_type": "markdown",
   "metadata": {},
   "source": [
    "## **Time Series Analysis**"
   ]
  },
  {
   "cell_type": "code",
   "execution_count": 10,
   "metadata": {
    "execution": {
     "iopub.execute_input": "2022-05-24T17:22:44.428022Z",
     "iopub.status.busy": "2022-05-24T17:22:44.427630Z",
     "iopub.status.idle": "2022-05-24T17:22:44.784435Z",
     "shell.execute_reply": "2022-05-24T17:22:44.783506Z",
     "shell.execute_reply.started": "2022-05-24T17:22:44.427984Z"
    }
   },
   "outputs": [
    {
     "data": {
      "image/png": "[encoded data removed]",
      "text/plain": [
       "<Figure size 1152x576 with 1 Axes>"
      ]
     },
     "metadata": {
      "needs_background": "light"
     },
     "output_type": "display_data"
    }
   ],
   "source": [
    "ts=sales_train_df.groupby([\"date_block_num\"])[\"item_cnt_day\"].sum()\n",
    "ts.astype('float')\n",
    "plt.figure(figsize=(16,8))\n",
    "plt.title('Total Sales of the company')\n",
    "plt.xlabel('Time')\n",
    "plt.ylabel('Sales')\n",
    "plt.plot(ts);"
   ]
  },
  {
   "cell_type": "code",
   "execution_count": 11,
   "metadata": {
    "execution": {
     "iopub.execute_input": "2022-05-24T17:22:47.828155Z",
     "iopub.status.busy": "2022-05-24T17:22:47.827630Z",
     "iopub.status.idle": "2022-05-24T17:22:48.086021Z",
     "shell.execute_reply": "2022-05-24T17:22:48.085126Z",
     "shell.execute_reply.started": "2022-05-24T17:22:47.828122Z"
    }
   },
   "outputs": [
    {
     "data": {
      "image/png": "[encoded data removed]",
      "text/plain": [
       "<Figure size 1152x432 with 1 Axes>"
      ]
     },
     "metadata": {
      "needs_background": "light"
     },
     "output_type": "display_data"
    }
   ],
   "source": [
    "plt.figure(figsize=(16,6))\n",
    "plt.plot(ts.rolling(window=12,center=False).mean(),label='Rolling Mean');\n",
    "plt.plot(ts.rolling(window=12,center=False).std(),label='Rolling sd');\n",
    "plt.legend();"
   ]
  },
  {
   "cell_type": "markdown",
   "metadata": {},
   "source": [
    "**Quick observations:** There is an obvious \"seasonality\" (Eg: peak sales around a time of year) and a decreasing \"Trend\".\n",
    "\n",
    "Let's check that with a quick decomposition into Trend, seasonality and residuals."
   ]
  },
  {
   "cell_type": "code",
   "execution_count": 12,
   "metadata": {
    "execution": {
     "iopub.execute_input": "2022-05-24T17:22:53.096676Z",
     "iopub.status.busy": "2022-05-24T17:22:53.096388Z",
     "iopub.status.idle": "2022-05-24T17:22:55.503618Z",
     "shell.execute_reply": "2022-05-24T17:22:55.502956Z",
     "shell.execute_reply.started": "2022-05-24T17:22:53.096648Z"
    }
   },
   "outputs": [
    {
     "data": {
      "image/png": "[encoded data removed]",
      "text/plain": [
       "<Figure size 432x288 with 4 Axes>"
      ]
     },
     "metadata": {
      "needs_background": "light"
     },
     "output_type": "display_data"
    }
   ],
   "source": [
    "import statsmodels.api as sm\n",
    "# multiplicative\n",
    "res = sm.tsa.seasonal_decompose(ts.values,period=12,model=\"multiplicative\")\n",
    "#plt.figure(figsize=(16,12))\n",
    "fig = res.plot()\n",
    "#fig.show()"
   ]
  },
  {
   "cell_type": "code",
   "execution_count": 14,
   "metadata": {
    "execution": {
     "iopub.execute_input": "2022-05-24T17:22:59.508904Z",
     "iopub.status.busy": "2022-05-24T17:22:59.508609Z",
     "iopub.status.idle": "2022-05-24T17:23:00.113198Z",
     "shell.execute_reply": "2022-05-24T17:23:00.112541Z",
     "shell.execute_reply.started": "2022-05-24T17:22:59.508873Z"
    }
   },
   "outputs": [
    {
     "data": {
      "image/png": "[encoded data removed]",
      "text/plain": [
       "<Figure size 432x288 with 4 Axes>"
      ]
     },
     "metadata": {
      "needs_background": "light"
     },
     "output_type": "display_data"
    }
   ],
   "source": [
    "# Additive model\n",
    "res = sm.tsa.seasonal_decompose(ts.values,period=12,model=\"additive\")\n",
    "#plt.figure(figsize=(16,12))\n",
    "fig = res.plot()\n",
    "#fig.show()"
   ]
  },
  {
   "cell_type": "markdown",
   "metadata": {},
   "source": [
    "There is seasonality and residual plot is not random and seems to follow a pattern. Lets check if series is non-stationary. We shall do ADF stationarity test."
   ]
  },
  {
   "cell_type": "code",
   "execution_count": 15,
   "metadata": {
    "execution": {
     "iopub.execute_input": "2022-05-24T17:23:03.605357Z",
     "iopub.status.busy": "2022-05-24T17:23:03.605026Z",
     "iopub.status.idle": "2022-05-24T17:23:03.611667Z",
     "shell.execute_reply": "2022-05-24T17:23:03.610760Z",
     "shell.execute_reply.started": "2022-05-24T17:23:03.605316Z"
    }
   },
   "outputs": [],
   "source": [
    "# TIME SERIES\n",
    "from statsmodels.tsa.arima_model import ARIMA\n",
    "from statsmodels.tsa.statespace.sarimax import SARIMAX\n",
    "from pandas.plotting import autocorrelation_plot\n",
    "from statsmodels.tsa.stattools import adfuller, acf, pacf,arma_order_select_ic\n",
    "import statsmodels.formula.api as smf\n",
    "import statsmodels.tsa.api as smt\n",
    "import statsmodels.api as sm\n",
    "import scipy.stats as scs"
   ]
  },
  {
   "cell_type": "code",
   "execution_count": 16,
   "metadata": {
    "execution": {
     "iopub.execute_input": "2022-05-24T17:23:06.407500Z",
     "iopub.status.busy": "2022-05-24T17:23:06.406744Z",
     "iopub.status.idle": "2022-05-24T17:23:06.437003Z",
     "shell.execute_reply": "2022-05-24T17:23:06.435964Z",
     "shell.execute_reply.started": "2022-05-24T17:23:06.407459Z"
    }
   },
   "outputs": [
    {
     "name": "stdout",
     "output_type": "stream",
     "text": [
      "Results of Dickey-Fuller Test:\n",
      "Test Statistic                 -2.395704\n",
      "p-value                         0.142953\n",
      "#Lags Used                      0.000000\n",
      "Number of Observations Used    33.000000\n",
      "Critical Value (1%)            -3.646135\n",
      "Critical Value (5%)            -2.954127\n",
      "Critical Value (10%)           -2.615968\n",
      "dtype: float64\n"
     ]
    }
   ],
   "source": [
    "# Stationarity tests\n",
    "def test_stationarity(timeseries):\n",
    "    \n",
    "    #Perform Dickey-Fuller test:\n",
    "    print('Results of Dickey-Fuller Test:')\n",
    "    dftest = adfuller(timeseries, autolag='AIC')\n",
    "    dfoutput = pd.Series(dftest[0:4], index=['Test Statistic','p-value','#Lags Used','Number of Observations Used'])\n",
    "    for key,value in dftest[4].items():\n",
    "        dfoutput['Critical Value (%s)'%key] = value\n",
    "    print (dfoutput)\n",
    "\n",
    "test_stationarity(ts)"
   ]
  },
  {
   "cell_type": "markdown",
   "metadata": {},
   "source": [
    "##### our p-value for the DF test is well within 5 %. Hence we can assume Stationarity of the series."
   ]
  },
  {
   "cell_type": "markdown",
   "metadata": {},
   "source": [
    "### ARMA models:"
   ]
  },
  {
   "cell_type": "markdown",
   "metadata": {},
   "source": [
    "MA - Next value in the series is a function of the average of the previous n number of values AR - The errors(difference in mean) of the next value is a function of the errors in the previous n number of values ARMA - a mixture of both.\n",
    "\n",
    "Now, How do we find out, if our time-series in AR process or MA process?\n",
    "\n",
    "Let's find out!"
   ]
  },
  {
   "cell_type": "code",
   "execution_count": 17,
   "metadata": {
    "execution": {
     "iopub.execute_input": "2022-05-24T17:23:13.909137Z",
     "iopub.status.busy": "2022-05-24T17:23:13.908683Z",
     "iopub.status.idle": "2022-05-24T17:23:13.921310Z",
     "shell.execute_reply": "2022-05-24T17:23:13.920399Z",
     "shell.execute_reply.started": "2022-05-24T17:23:13.909102Z"
    }
   },
   "outputs": [],
   "source": [
    "def tsplot(y, lags=None, figsize=(10, 8), style='bmh',title=''):\n",
    "    if not isinstance(y, pd.Series):\n",
    "        y = pd.Series(y)\n",
    "    with plt.style.context(style):    \n",
    "        fig = plt.figure(figsize=figsize)\n",
    "        #mpl.rcParams['font.family'] = 'Ubuntu Mono'\n",
    "        layout = (3, 2)\n",
    "        ts_ax = plt.subplot2grid(layout, (0, 0), colspan=2)\n",
    "        acf_ax = plt.subplot2grid(layout, (1, 0))\n",
    "        pacf_ax = plt.subplot2grid(layout, (1, 1))\n",
    "        qq_ax = plt.subplot2grid(layout, (2, 0))\n",
    "        pp_ax = plt.subplot2grid(layout, (2, 1))\n",
    "        \n",
    "        y.plot(ax=ts_ax)\n",
    "        ts_ax.set_title(title)\n",
    "        smt.graphics.plot_acf(y, lags=lags, ax=acf_ax, alpha=0.5)\n",
    "        smt.graphics.plot_pacf(y, lags=lags, ax=pacf_ax, alpha=0.5)\n",
    "        sm.qqplot(y, line='s', ax=qq_ax)\n",
    "        qq_ax.set_title('QQ Plot')        \n",
    "        scs.probplot(y, sparams=(y.mean(), y.std()), plot=pp_ax)\n",
    "\n",
    "        plt.tight_layout()\n",
    "    return "
   ]
  },
  {
   "cell_type": "code",
   "execution_count": 21,
   "metadata": {
    "execution": {
     "iopub.execute_input": "2022-05-24T17:23:30.848940Z",
     "iopub.status.busy": "2022-05-24T17:23:30.848628Z",
     "iopub.status.idle": "2022-05-24T17:23:31.874295Z",
     "shell.execute_reply": "2022-05-24T17:23:31.873594Z",
     "shell.execute_reply.started": "2022-05-24T17:23:30.848903Z"
    }
   },
   "outputs": [
    {
     "name": "stderr",
     "output_type": "stream",
     "text": [
      "/opt/conda/lib/python3.7/site-packages/statsmodels/graphics/gofplots.py:993: UserWarning: marker is redundantly defined by the 'marker' keyword argument and the fmt string \"bo\" (-> marker='o'). The keyword argument will take precedence.\n",
      "  ax.plot(x, y, fmt, **plot_style)\n"
     ]
    },
    {
     "data": {
      "image/png": "[encoded data removed]",
      "text/plain": [
       "<Figure size 720x576 with 5 Axes>"
      ]
     },
     "metadata": {
      "needs_background": "light"
     },
     "output_type": "display_data"
    }
   ],
   "source": [
    "# Simulate an AR(1) process with alpha = 0.6\n",
    "np.random.seed(1)\n",
    "n_samples = int(1000)\n",
    "a = 0.6\n",
    "x = w = np.random.normal(size=n_samples)\n",
    "\n",
    "for t in range(n_samples):\n",
    "    x[t] = a*x[t-1] + w[t]\n",
    "limit=12    \n",
    "_ = tsplot(x, lags=limit,title=\"AR(1)process\")\n",
    "\n",
    "##From the graph it's visible that ACF tails out and PACF cuts at lag1"
   ]
  },
  {
   "cell_type": "code",
   "execution_count": 19,
   "metadata": {
    "execution": {
     "iopub.execute_input": "2022-05-24T17:23:19.958787Z",
     "iopub.status.busy": "2022-05-24T17:23:19.958486Z",
     "iopub.status.idle": "2022-05-24T17:23:20.962774Z",
     "shell.execute_reply": "2022-05-24T17:23:20.961813Z",
     "shell.execute_reply.started": "2022-05-24T17:23:19.958755Z"
    }
   },
   "outputs": [
    {
     "name": "stderr",
     "output_type": "stream",
     "text": [
      "/opt/conda/lib/python3.7/site-packages/statsmodels/graphics/gofplots.py:993: UserWarning: marker is redundantly defined by the 'marker' keyword argument and the fmt string \"bo\" (-> marker='o'). The keyword argument will take precedence.\n",
      "  ax.plot(x, y, fmt, **plot_style)\n"
     ]
    },
    {
     "data": {
      "image/png": "[encoded data removed]",
      "text/plain": [
       "<Figure size 720x576 with 5 Axes>"
      ]
     },
     "metadata": {
      "needs_background": "light"
     },
     "output_type": "display_data"
    }
   ],
   "source": [
    "# Simulate an AR(2) process\n",
    "\n",
    "n = int(1000)\n",
    "alphas = np.array([.444, .333])\n",
    "betas = np.array([0.])\n",
    "\n",
    "# Python requires us to specify the zero-lag value which is 1\n",
    "# Also note that the alphas for the AR model must be negated\n",
    "# We also set the betas for the MA equal to 0 for an AR(p) model\n",
    "# For more information see the examples at statsmodels.org\n",
    "ar = np.r_[1, -alphas]\n",
    "ma = np.r_[1, betas]\n",
    "\n",
    "ar2 = smt.arma_generate_sample(ar=ar, ma=ma, nsample=n) \n",
    "_ = tsplot(ar2, lags=12,title=\"AR(2) process\")"
   ]
  },
  {
   "cell_type": "code",
   "execution_count": 20,
   "metadata": {
    "execution": {
     "iopub.execute_input": "2022-05-24T17:23:26.521118Z",
     "iopub.status.busy": "2022-05-24T17:23:26.520629Z",
     "iopub.status.idle": "2022-05-24T17:23:27.681995Z",
     "shell.execute_reply": "2022-05-24T17:23:27.680847Z",
     "shell.execute_reply.started": "2022-05-24T17:23:26.521079Z"
    }
   },
   "outputs": [
    {
     "name": "stderr",
     "output_type": "stream",
     "text": [
      "/opt/conda/lib/python3.7/site-packages/statsmodels/graphics/gofplots.py:993: UserWarning: marker is redundantly defined by the 'marker' keyword argument and the fmt string \"bo\" (-> marker='o'). The keyword argument will take precedence.\n",
      "  ax.plot(x, y, fmt, **plot_style)\n"
     ]
    },
    {
     "data": {
      "image/png": "[encoded data removed]",
      "text/plain": [
       "<Figure size 720x576 with 5 Axes>"
      ]
     },
     "metadata": {
      "needs_background": "light"
     },
     "output_type": "display_data"
    }
   ],
   "source": [
    "# Simulate an MA(1) process\n",
    "n = int(1000)\n",
    "# set the AR(p) alphas equal to 0\n",
    "alphas = np.array([0.])\n",
    "betas = np.array([0.8])\n",
    "# add zero-lag and negate alphas\n",
    "ar = np.r_[1, -alphas]\n",
    "ma = np.r_[1, betas]\n",
    "ma1 = smt.arma_generate_sample(ar=ar, ma=ma, nsample=n) \n",
    "limit=12\n",
    "_ = tsplot(ma1, lags=limit,title=\"MA(1) process\")"
   ]
  },
  {
   "cell_type": "code",
   "execution_count": 22,
   "metadata": {
    "execution": {
     "iopub.execute_input": "2022-05-24T17:23:39.550055Z",
     "iopub.status.busy": "2022-05-24T17:23:39.549486Z",
     "iopub.status.idle": "2022-05-24T17:23:40.603164Z",
     "shell.execute_reply": "2022-05-24T17:23:40.602260Z",
     "shell.execute_reply.started": "2022-05-24T17:23:39.549999Z"
    }
   },
   "outputs": [
    {
     "name": "stderr",
     "output_type": "stream",
     "text": [
      "/opt/conda/lib/python3.7/site-packages/statsmodels/graphics/gofplots.py:993: UserWarning: marker is redundantly defined by the 'marker' keyword argument and the fmt string \"bo\" (-> marker='o'). The keyword argument will take precedence.\n",
      "  ax.plot(x, y, fmt, **plot_style)\n"
     ]
    },
    {
     "data": {
      "image/png": "[encoded data removed]",
      "text/plain": [
       "<Figure size 720x576 with 5 Axes>"
      ]
     },
     "metadata": {
      "needs_background": "light"
     },
     "output_type": "display_data"
    }
   ],
   "source": [
    "# Simulate an ARMA(2, 2) model with alphas=[0.5,-0.25] and betas=[0.5,-0.3]\n",
    "max_lag = 12\n",
    "\n",
    "n = int(5000) # lots of samples to help estimates\n",
    "burn = int(n/10) # number of samples to discard before fit\n",
    "\n",
    "alphas = np.array([0.8, -0.65])\n",
    "betas = np.array([0.5, -0.7])\n",
    "ar = np.r_[1, -alphas]\n",
    "ma = np.r_[1, betas]\n",
    "\n",
    "arma22 = smt.arma_generate_sample(ar=ar, ma=ma, nsample=n, burnin=burn)\n",
    "_ = tsplot(arma22, lags=max_lag,title=\"ARMA(2,2) process\")"
   ]
  },
  {
   "cell_type": "markdown",
   "metadata": {},
   "source": [
    "## **DEEP LEARNING METHOD**"
   ]
  },
  {
   "cell_type": "code",
   "execution_count": 23,
   "metadata": {
    "execution": {
     "iopub.execute_input": "2022-05-24T17:23:44.044449Z",
     "iopub.status.busy": "2022-05-24T17:23:44.044088Z",
     "iopub.status.idle": "2022-05-24T17:23:50.589702Z",
     "shell.execute_reply": "2022-05-24T17:23:50.588726Z",
     "shell.execute_reply.started": "2022-05-24T17:23:44.044414Z"
    }
   },
   "outputs": [],
   "source": [
    "import os\n",
    "os.environ['TF_CPP_MIN_LOG_LEVEL'] = '2' \n",
    "\n",
    "import pandas as pd\n",
    "import numpy as np\n",
    "import matplotlib.pyplot as plt\n",
    "%matplotlib inline\n",
    "import seaborn as sns\n",
    "\n",
    "from tensorflow import keras\n",
    "import tensorflow as tf\n",
    "\n",
    "from tensorflow.keras.optimizers.schedules import ExponentialDecay\n",
    "from tensorflow.keras.callbacks import EarlyStopping\n",
    "from tensorflow.keras.callbacks import LearningRateScheduler,ReduceLROnPlateau\n",
    "\n",
    "from sklearn.model_selection import KFold,GroupKFold\n",
    "from tensorflow.keras import layers"
   ]
  },
  {
   "cell_type": "code",
   "execution_count": 24,
   "metadata": {
    "execution": {
     "iopub.execute_input": "2022-05-24T17:23:50.592208Z",
     "iopub.status.busy": "2022-05-24T17:23:50.591666Z",
     "iopub.status.idle": "2022-05-24T17:23:50.597278Z",
     "shell.execute_reply": "2022-05-24T17:23:50.596188Z",
     "shell.execute_reply.started": "2022-05-24T17:23:50.592159Z"
    }
   },
   "outputs": [],
   "source": [
    "from sklearn.preprocessing import RobustScaler,StandardScaler\n",
    "\n",
    "sc = StandardScaler()"
   ]
  },
  {
   "cell_type": "code",
   "execution_count": 25,
   "metadata": {
    "execution": {
     "iopub.execute_input": "2022-05-24T17:23:52.201882Z",
     "iopub.status.busy": "2022-05-24T17:23:52.201567Z",
     "iopub.status.idle": "2022-05-24T17:23:55.770569Z",
     "shell.execute_reply": "2022-05-24T17:23:55.769461Z",
     "shell.execute_reply.started": "2022-05-24T17:23:52.201854Z"
    }
   },
   "outputs": [],
   "source": [
    "dataset=[]\n",
    "dataset = sales_train_df.pivot_table(index = ['shop_id','item_id'],values = ['item_cnt_day'],columns = ['date_block_num'],fill_value = 0,aggfunc='sum')"
   ]
  },
  {
   "cell_type": "code",
   "execution_count": 26,
   "metadata": {
    "execution": {
     "iopub.execute_input": "2022-05-24T17:23:55.772769Z",
     "iopub.status.busy": "2022-05-24T17:23:55.772504Z",
     "iopub.status.idle": "2022-05-24T17:23:55.879127Z",
     "shell.execute_reply": "2022-05-24T17:23:55.878095Z",
     "shell.execute_reply.started": "2022-05-24T17:23:55.772739Z"
    }
   },
   "outputs": [
    {
     "data": {
      "text/html": [
       "<div>\n",
       "<style scoped>\n",
       "    .dataframe tbody tr th:only-of-type {\n",
       "        vertical-align: middle;\n",
       "    }\n",
       "\n",
       "    .dataframe tbody tr th {\n",
       "        vertical-align: top;\n",
       "    }\n",
       "\n",
       "    .dataframe thead th {\n",
       "        text-align: right;\n",
       "    }\n",
       "</style>\n",
       "<table border=\"1\" class=\"dataframe\">\n",
       "  <thead>\n",
       "    <tr style=\"text-align: right;\">\n",
       "      <th></th>\n",
       "      <th>ID</th>\n",
       "      <th>shop_id</th>\n",
       "      <th>item_id</th>\n",
       "    </tr>\n",
       "  </thead>\n",
       "  <tbody>\n",
       "    <tr>\n",
       "      <th>0</th>\n",
       "      <td>0</td>\n",
       "      <td>5</td>\n",
       "      <td>5037</td>\n",
       "    </tr>\n",
       "    <tr>\n",
       "      <th>1</th>\n",
       "      <td>1</td>\n",
       "      <td>5</td>\n",
       "      <td>5320</td>\n",
       "    </tr>\n",
       "    <tr>\n",
       "      <th>2</th>\n",
       "      <td>2</td>\n",
       "      <td>5</td>\n",
       "      <td>5233</td>\n",
       "    </tr>\n",
       "    <tr>\n",
       "      <th>3</th>\n",
       "      <td>3</td>\n",
       "      <td>5</td>\n",
       "      <td>5232</td>\n",
       "    </tr>\n",
       "    <tr>\n",
       "      <th>4</th>\n",
       "      <td>4</td>\n",
       "      <td>5</td>\n",
       "      <td>5268</td>\n",
       "    </tr>\n",
       "    <tr>\n",
       "      <th>...</th>\n",
       "      <td>...</td>\n",
       "      <td>...</td>\n",
       "      <td>...</td>\n",
       "    </tr>\n",
       "    <tr>\n",
       "      <th>214195</th>\n",
       "      <td>214195</td>\n",
       "      <td>45</td>\n",
       "      <td>18454</td>\n",
       "    </tr>\n",
       "    <tr>\n",
       "      <th>214196</th>\n",
       "      <td>214196</td>\n",
       "      <td>45</td>\n",
       "      <td>16188</td>\n",
       "    </tr>\n",
       "    <tr>\n",
       "      <th>214197</th>\n",
       "      <td>214197</td>\n",
       "      <td>45</td>\n",
       "      <td>15757</td>\n",
       "    </tr>\n",
       "    <tr>\n",
       "      <th>214198</th>\n",
       "      <td>214198</td>\n",
       "      <td>45</td>\n",
       "      <td>19648</td>\n",
       "    </tr>\n",
       "    <tr>\n",
       "      <th>214199</th>\n",
       "      <td>214199</td>\n",
       "      <td>45</td>\n",
       "      <td>969</td>\n",
       "    </tr>\n",
       "  </tbody>\n",
       "</table>\n",
       "<p>214200 rows × 3 columns</p>\n",
       "</div>"
      ],
      "text/plain": [
       "            ID  shop_id  item_id\n",
       "0            0        5     5037\n",
       "1            1        5     5320\n",
       "2            2        5     5233\n",
       "3            3        5     5232\n",
       "4            4        5     5268\n",
       "...        ...      ...      ...\n",
       "214195  214195       45    18454\n",
       "214196  214196       45    16188\n",
       "214197  214197       45    15757\n",
       "214198  214198       45    19648\n",
       "214199  214199       45      969\n",
       "\n",
       "[214200 rows x 3 columns]"
      ]
     },
     "execution_count": 26,
     "metadata": {},
     "output_type": "execute_result"
    }
   ],
   "source": [
    "test_df=pd.read_csv('/kaggle/input/competitive-data-science-predict-future-sales/test.csv')\n",
    "test_df"
   ]
  },
  {
   "cell_type": "code",
   "execution_count": 27,
   "metadata": {
    "execution": {
     "iopub.execute_input": "2022-05-24T17:24:00.084456Z",
     "iopub.status.busy": "2022-05-24T17:24:00.083555Z",
     "iopub.status.idle": "2022-05-24T17:24:00.102224Z",
     "shell.execute_reply": "2022-05-24T17:24:00.101263Z",
     "shell.execute_reply.started": "2022-05-24T17:24:00.084401Z"
    }
   },
   "outputs": [],
   "source": [
    "dataset.reset_index(inplace = True)\n"
   ]
  },
  {
   "cell_type": "code",
   "execution_count": 28,
   "metadata": {
    "execution": {
     "iopub.execute_input": "2022-05-24T17:24:02.881321Z",
     "iopub.status.busy": "2022-05-24T17:24:02.880642Z",
     "iopub.status.idle": "2022-05-24T17:24:03.193050Z",
     "shell.execute_reply": "2022-05-24T17:24:03.191942Z",
     "shell.execute_reply.started": "2022-05-24T17:24:02.881285Z"
    }
   },
   "outputs": [
    {
     "name": "stderr",
     "output_type": "stream",
     "text": [
      "/opt/conda/lib/python3.7/site-packages/ipykernel_launcher.py:1: FutureWarning: merging between different levels is deprecated and will be removed in a future version. (1 levels on the left,2 on the right)\n",
      "  \"\"\"Entry point for launching an IPython kernel.\n",
      "/opt/conda/lib/python3.7/site-packages/pandas/core/generic.py:4150: PerformanceWarning: dropping on a non-lexsorted multi-index without a level parameter may impact performance.\n",
      "  obj = obj._drop_axis(labels, axis, level=level, errors=errors)\n"
     ]
    }
   ],
   "source": [
    "dataset = pd.merge(test_df,dataset,on = ['item_id','shop_id'],how = 'left')"
   ]
  },
  {
   "cell_type": "code",
   "execution_count": 29,
   "metadata": {
    "execution": {
     "iopub.execute_input": "2022-05-24T17:24:06.675333Z",
     "iopub.status.busy": "2022-05-24T17:24:06.674953Z",
     "iopub.status.idle": "2022-05-24T17:24:06.715963Z",
     "shell.execute_reply": "2022-05-24T17:24:06.714846Z",
     "shell.execute_reply.started": "2022-05-24T17:24:06.675280Z"
    }
   },
   "outputs": [],
   "source": [
    "dataset.fillna(0,inplace = True)"
   ]
  },
  {
   "cell_type": "code",
   "execution_count": 31,
   "metadata": {
    "execution": {
     "iopub.execute_input": "2022-05-24T17:24:16.146059Z",
     "iopub.status.busy": "2022-05-24T17:24:16.145022Z",
     "iopub.status.idle": "2022-05-24T17:24:16.171621Z",
     "shell.execute_reply": "2022-05-24T17:24:16.170668Z",
     "shell.execute_reply.started": "2022-05-24T17:24:16.146013Z"
    }
   },
   "outputs": [],
   "source": [
    "dataset.drop(['shop_id','item_id','ID'],inplace = True, axis = 1)"
   ]
  },
  {
   "cell_type": "code",
   "execution_count": 32,
   "metadata": {
    "execution": {
     "iopub.execute_input": "2022-05-24T17:24:18.701806Z",
     "iopub.status.busy": "2022-05-24T17:24:18.701477Z",
     "iopub.status.idle": "2022-05-24T17:24:18.708349Z",
     "shell.execute_reply": "2022-05-24T17:24:18.707598Z",
     "shell.execute_reply.started": "2022-05-24T17:24:18.701775Z"
    }
   },
   "outputs": [
    {
     "data": {
      "text/plain": [
       "(214200, 34)"
      ]
     },
     "execution_count": 32,
     "metadata": {},
     "output_type": "execute_result"
    }
   ],
   "source": [
    "dataset.shape"
   ]
  },
  {
   "cell_type": "code",
   "execution_count": 33,
   "metadata": {
    "execution": {
     "iopub.execute_input": "2022-05-24T17:24:21.207660Z",
     "iopub.status.busy": "2022-05-24T17:24:21.207000Z",
     "iopub.status.idle": "2022-05-24T17:24:21.214920Z",
     "shell.execute_reply": "2022-05-24T17:24:21.213815Z",
     "shell.execute_reply.started": "2022-05-24T17:24:21.207614Z"
    }
   },
   "outputs": [
    {
     "name": "stdout",
     "output_type": "stream",
     "text": [
      "(214200, 33, 1) (214200, 1) (214200, 33, 1)\n"
     ]
    }
   ],
   "source": [
    "# X we will keep all columns execpt the last one \n",
    "X_train_deep = np.expand_dims(dataset.values[:,:-1],axis = 2)\n",
    "# the last column is our label\n",
    "y_train_deep = dataset.values[:,-1:]\n",
    "\n",
    "# for test we keep all the columns execpt the first one\n",
    "X_test_deep = np.expand_dims(dataset.values[:,1:],axis = 2)\n",
    "\n",
    "# lets have a look on the shape \n",
    "print(X_train_deep.shape,y_train_deep.shape,X_test_deep.shape)"
   ]
  },
  {
   "cell_type": "code",
   "execution_count": 34,
   "metadata": {
    "execution": {
     "iopub.execute_input": "2022-05-24T17:24:24.512698Z",
     "iopub.status.busy": "2022-05-24T17:24:24.511973Z",
     "iopub.status.idle": "2022-05-24T17:24:24.517268Z",
     "shell.execute_reply": "2022-05-24T17:24:24.516401Z",
     "shell.execute_reply.started": "2022-05-24T17:24:24.512644Z"
    }
   },
   "outputs": [],
   "source": [
    "save_best = tf.keras.callbacks.ModelCheckpoint(\"Model.h5\", monitor='val_loss',verbose=1, save_best_only=True)"
   ]
  },
  {
   "cell_type": "code",
   "execution_count": 35,
   "metadata": {
    "execution": {
     "iopub.execute_input": "2022-05-24T17:24:29.802060Z",
     "iopub.status.busy": "2022-05-24T17:24:29.801539Z",
     "iopub.status.idle": "2022-05-24T17:24:29.811045Z",
     "shell.execute_reply": "2022-05-24T17:24:29.810023Z",
     "shell.execute_reply.started": "2022-05-24T17:24:29.802008Z"
    }
   },
   "outputs": [],
   "source": [
    "def build_model():\n",
    "    \n",
    "    model = tf.keras.models.Sequential()\n",
    "    model.add(tf.keras.layers.Bidirectional(tf.keras.layers.LSTM(128, return_sequences=True), input_shape=(33, 1)))\n",
    "\n",
    "    model.add(tf.keras.layers.Bidirectional(tf.keras.layers.LSTM(64, return_sequences=True)))\n",
    "    model.add(tf.keras.layers.Dropout(0.2))\n",
    "\n",
    "    model.add(tf.keras.layers.Flatten())\n",
    "    \n",
    "    model.add(tf.keras.layers.Dense(32, activation='relu', kernel_initializer='uniform'))\n",
    "    model.add(tf.keras.layers.Dense(1))\n",
    "    \n",
    "    model.compile(optimizer = tf.keras.optimizers.Adam(learning_rate = 0.002), loss = 'mse', metrics=['mse'])\n",
    "\n",
    "    model.summary()\n",
    "    \n",
    "    return model"
   ]
  },
  {
   "cell_type": "code",
   "execution_count": 36,
   "metadata": {
    "execution": {
     "iopub.execute_input": "2022-05-24T17:24:33.066330Z",
     "iopub.status.busy": "2022-05-24T17:24:33.065825Z",
     "iopub.status.idle": "2022-05-24T17:24:34.244914Z",
     "shell.execute_reply": "2022-05-24T17:24:34.243747Z",
     "shell.execute_reply.started": "2022-05-24T17:24:33.066279Z"
    }
   },
   "outputs": [
    {
     "name": "stdout",
     "output_type": "stream",
     "text": [
      "Model: \"sequential\"\n",
      "_________________________________________________________________\n",
      "Layer (type)                 Output Shape              Param #   \n",
      "=================================================================\n",
      "bidirectional (Bidirectional (None, 33, 256)           133120    \n",
      "_________________________________________________________________\n",
      "bidirectional_1 (Bidirection (None, 33, 128)           164352    \n",
      "_________________________________________________________________\n",
      "dropout (Dropout)            (None, 33, 128)           0         \n",
      "_________________________________________________________________\n",
      "flatten (Flatten)            (None, 4224)              0         \n",
      "_________________________________________________________________\n",
      "dense (Dense)                (None, 32)                135200    \n",
      "_________________________________________________________________\n",
      "dense_1 (Dense)              (None, 1)                 33        \n",
      "=================================================================\n",
      "Total params: 432,705\n",
      "Trainable params: 432,705\n",
      "Non-trainable params: 0\n",
      "_________________________________________________________________\n"
     ]
    }
   ],
   "source": [
    "model = build_model()"
   ]
  },
  {
   "cell_type": "code",
   "execution_count": null,
   "metadata": {},
   "outputs": [],
   "source": [
    "#Run/Fit model only for first time and save the model details in Model.H5 for future use\n",
    "#as it takes around 4-5 hrs for the model to fit the data\n",
    "#Use saved Model.H5 for predicting future sales\n",
    "##model.fit(X_train_deep, y_train_deep, validation_split=0.2, epochs=40, batch_size=512, verbose=1, callbacks=[save_best])"
   ]
  },
  {
   "cell_type": "code",
   "execution_count": null,
   "metadata": {},
   "outputs": [],
   "source": [
    "#run this for first time while building the model for first time\n",
    "#model.evaluate(X_train_deep, y_train_deep)"
   ]
  },
  {
   "cell_type": "markdown",
   "metadata": {},
   "source": [
    "RMSE of Deep learning model comes out to be **1.03651** which is very much less than Other basic models that was tried. This means Deep learning model can learn complex patterns and can predict future sales more accurately than ML models."
   ]
  },
  {
   "cell_type": "code",
   "execution_count": 37,
   "metadata": {
    "execution": {
     "iopub.execute_input": "2022-05-24T17:24:37.303606Z",
     "iopub.status.busy": "2022-05-24T17:24:37.302833Z",
     "iopub.status.idle": "2022-05-24T17:24:38.746573Z",
     "shell.execute_reply": "2022-05-24T17:24:38.745500Z",
     "shell.execute_reply.started": "2022-05-24T17:24:37.303558Z"
    }
   },
   "outputs": [],
   "source": [
    "model = tf.keras.models.load_model('../input/saved-model/Model.h5')"
   ]
  },
  {
   "cell_type": "code",
   "execution_count": 38,
   "metadata": {
    "execution": {
     "iopub.execute_input": "2022-05-24T17:24:41.363132Z",
     "iopub.status.busy": "2022-05-24T17:24:41.362808Z",
     "iopub.status.idle": "2022-05-24T17:27:46.110867Z",
     "shell.execute_reply": "2022-05-24T17:27:46.109666Z",
     "shell.execute_reply.started": "2022-05-24T17:24:41.363099Z"
    }
   },
   "outputs": [
    {
     "name": "stdout",
     "output_type": "stream",
     "text": [
      "6694/6694 [==============================] - 185s 27ms/step\n"
     ]
    }
   ],
   "source": [
    "# creating submission file \n",
    "submission = model.predict(X_test_deep, verbose=1)\n",
    "# we will keep every value between 0 and 20\n",
    "submission = submission.clip(0,20)\n"
   ]
  },
  {
   "cell_type": "code",
   "execution_count": 39,
   "metadata": {
    "execution": {
     "iopub.execute_input": "2022-05-24T17:27:46.112976Z",
     "iopub.status.busy": "2022-05-24T17:27:46.112530Z",
     "iopub.status.idle": "2022-05-24T17:27:46.763577Z",
     "shell.execute_reply": "2022-05-24T17:27:46.762881Z",
     "shell.execute_reply.started": "2022-05-24T17:27:46.112945Z"
    }
   },
   "outputs": [],
   "source": [
    "# creating dataframe with required columns \n",
    "submission = pd.DataFrame({'ID':test_df['ID'],'item_cnt_month':submission.ravel()})\n",
    "# creating csv file from dataframe\n",
    "submission.to_csv('submission.csv',index = False)"
   ]
  },
  {
   "cell_type": "markdown",
   "metadata": {},
   "source": [
    "### Conclusion:\n",
    "\n",
    "In this notebook i had tried to predict sales of different items at shop level using different ML techniques. To summarize:\n",
    "  1. RMSE of Linear Regression:7.65\n",
    "  2. RMSE of XG Boost:4.68 \n",
    "  3. RMSE of Random FOrest Regressor:4.86\n",
    "  4. RMSE of LSTM model:1.03\n",
    "  \n",
    "This means Deep learning model can learn complex patterns and can predict future sales more accurately than ML models.\n",
    "\n",
    "### Next Steps:\n",
    "\n",
    "Further the Deep learning model can be tuned on hyper parameters to get much better results and to improve accuracy."
   ]
  }
 ],
 "metadata": {
  "kernelspec": {
   "display_name": "Python 3",
   "language": "python",
   "name": "python3"
  },
  "language_info": {
   "codemirror_mode": {
    "name": "ipython",
    "version": 3
   },
   "file_extension": ".py",
   "mimetype": "text/x-python",
   "name": "python",
   "nbconvert_exporter": "python",
   "pygments_lexer": "ipython3",
   "version": "3.8.8"
  }
 },
 "nbformat": 4,
 "nbformat_minor": 4
}
